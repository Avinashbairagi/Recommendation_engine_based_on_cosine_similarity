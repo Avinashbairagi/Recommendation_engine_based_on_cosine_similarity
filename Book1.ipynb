{
 "cells": [
  {
   "cell_type": "markdown",
   "id": "d8d77238",
   "metadata": {},
   "source": [
    "# Importing Liberaries"
   ]
  },
  {
   "cell_type": "code",
   "execution_count": 1,
   "id": "da45bdfb",
   "metadata": {},
   "outputs": [],
   "source": [
    "%matplotlib inline\n",
    "import matplotlib.pyplot as plt\n",
    "import seaborn as sns\n",
    "import pandas as pd\n",
    "import numpy as np\n",
    "import ast \n",
    "from scipy import stats\n",
    "from ast import literal_eval\n",
    "from sklearn.feature_extraction.text import TfidfVectorizer, CountVectorizer\n",
    "from sklearn.metrics.pairwise import linear_kernel, cosine_similarity\n",
    "from nltk.stem.snowball import SnowballStemmer\n",
    "from nltk.stem.wordnet import WordNetLemmatizer\n",
    "from nltk.corpus import wordnet\n",
    "# from surprise import Reader, Dataset, SVD, evaluate\n",
    "\n",
    "import warnings; warnings.simplefilter('ignore')"
   ]
  },
  {
   "cell_type": "markdown",
   "id": "d205757b",
   "metadata": {},
   "source": [
    "Here we have 4 csv data files which we are going to use for building recomendation engine based on **cosine similarity**"
   ]
  },
  {
   "cell_type": "markdown",
   "id": "55a64770",
   "metadata": {},
   "source": [
    "# Reading CSV files"
   ]
  },
  {
   "cell_type": "code",
   "execution_count": 2,
   "id": "18ebe19e",
   "metadata": {},
   "outputs": [
    {
     "name": "stderr",
     "output_type": "stream",
     "text": [
      "b'Skipping line 122433: expected 11 fields, saw 12\\n'\n",
      "b'Skipping line 602576: expected 11 fields, saw 12\\n'\n",
      "b'Skipping line 990950: expected 11 fields, saw 12\\n'\n"
     ]
    }
   ],
   "source": [
    "apps = pd.read_csv('apps.tsv', delimiter='\\t',encoding='utf-8')\n",
    "user_history = pd.read_csv('user_history.tsv', delimiter='\\t',encoding='utf-8')\n",
    "jobs = pd.read_csv('jobs.tsv', delimiter='\\t',encoding='utf-8', error_bad_lines=False)\n",
    "users = pd.read_csv('users.tsv' ,delimiter='\\t',encoding='utf-8')\n",
    "test_users = pd.read_csv('test_users.tsv', delimiter='\\t',encoding='utf-8')"
   ]
  },
  {
   "cell_type": "markdown",
   "id": "be2620d4",
   "metadata": {},
   "source": [
    "# Apps Data"
   ]
  },
  {
   "cell_type": "code",
   "execution_count": 3,
   "id": "4c512abc",
   "metadata": {},
   "outputs": [
    {
     "data": {
      "text/html": [
       "<div>\n",
       "<style scoped>\n",
       "    .dataframe tbody tr th:only-of-type {\n",
       "        vertical-align: middle;\n",
       "    }\n",
       "\n",
       "    .dataframe tbody tr th {\n",
       "        vertical-align: top;\n",
       "    }\n",
       "\n",
       "    .dataframe thead th {\n",
       "        text-align: right;\n",
       "    }\n",
       "</style>\n",
       "<table border=\"1\" class=\"dataframe\">\n",
       "  <thead>\n",
       "    <tr style=\"text-align: right;\">\n",
       "      <th></th>\n",
       "      <th>UserID</th>\n",
       "      <th>WindowID</th>\n",
       "      <th>Split</th>\n",
       "      <th>ApplicationDate</th>\n",
       "      <th>JobID</th>\n",
       "    </tr>\n",
       "  </thead>\n",
       "  <tbody>\n",
       "    <tr>\n",
       "      <th>0</th>\n",
       "      <td>47</td>\n",
       "      <td>1</td>\n",
       "      <td>Train</td>\n",
       "      <td>2012-04-04 15:56:23.537</td>\n",
       "      <td>169528</td>\n",
       "    </tr>\n",
       "    <tr>\n",
       "      <th>1</th>\n",
       "      <td>47</td>\n",
       "      <td>1</td>\n",
       "      <td>Train</td>\n",
       "      <td>2012-04-06 01:03:00.003</td>\n",
       "      <td>284009</td>\n",
       "    </tr>\n",
       "    <tr>\n",
       "      <th>2</th>\n",
       "      <td>47</td>\n",
       "      <td>1</td>\n",
       "      <td>Train</td>\n",
       "      <td>2012-04-05 02:40:27.753</td>\n",
       "      <td>2121</td>\n",
       "    </tr>\n",
       "    <tr>\n",
       "      <th>3</th>\n",
       "      <td>47</td>\n",
       "      <td>1</td>\n",
       "      <td>Train</td>\n",
       "      <td>2012-04-05 02:37:02.673</td>\n",
       "      <td>848187</td>\n",
       "    </tr>\n",
       "    <tr>\n",
       "      <th>4</th>\n",
       "      <td>47</td>\n",
       "      <td>1</td>\n",
       "      <td>Train</td>\n",
       "      <td>2012-04-05 22:44:06.653</td>\n",
       "      <td>733748</td>\n",
       "    </tr>\n",
       "    <tr>\n",
       "      <th>...</th>\n",
       "      <td>...</td>\n",
       "      <td>...</td>\n",
       "      <td>...</td>\n",
       "      <td>...</td>\n",
       "      <td>...</td>\n",
       "    </tr>\n",
       "    <tr>\n",
       "      <th>1603106</th>\n",
       "      <td>1472089</td>\n",
       "      <td>7</td>\n",
       "      <td>Train</td>\n",
       "      <td>2012-06-23 16:06:03.087</td>\n",
       "      <td>573732</td>\n",
       "    </tr>\n",
       "    <tr>\n",
       "      <th>1603107</th>\n",
       "      <td>1472089</td>\n",
       "      <td>7</td>\n",
       "      <td>Train</td>\n",
       "      <td>2012-06-25 23:20:35.603</td>\n",
       "      <td>39401</td>\n",
       "    </tr>\n",
       "    <tr>\n",
       "      <th>1603108</th>\n",
       "      <td>1472089</td>\n",
       "      <td>7</td>\n",
       "      <td>Train</td>\n",
       "      <td>2012-04-30 14:01:42.52</td>\n",
       "      <td>175198</td>\n",
       "    </tr>\n",
       "    <tr>\n",
       "      <th>1603109</th>\n",
       "      <td>1472089</td>\n",
       "      <td>7</td>\n",
       "      <td>Train</td>\n",
       "      <td>2012-04-30 13:52:45.823</td>\n",
       "      <td>1073263</td>\n",
       "    </tr>\n",
       "    <tr>\n",
       "      <th>1603110</th>\n",
       "      <td>1472089</td>\n",
       "      <td>7</td>\n",
       "      <td>Train</td>\n",
       "      <td>2012-04-30 13:39:15.213</td>\n",
       "      <td>646949</td>\n",
       "    </tr>\n",
       "  </tbody>\n",
       "</table>\n",
       "<p>1603111 rows × 5 columns</p>\n",
       "</div>"
      ],
      "text/plain": [
       "          UserID  WindowID  Split          ApplicationDate    JobID\n",
       "0             47         1  Train  2012-04-04 15:56:23.537   169528\n",
       "1             47         1  Train  2012-04-06 01:03:00.003   284009\n",
       "2             47         1  Train  2012-04-05 02:40:27.753     2121\n",
       "3             47         1  Train  2012-04-05 02:37:02.673   848187\n",
       "4             47         1  Train  2012-04-05 22:44:06.653   733748\n",
       "...          ...       ...    ...                      ...      ...\n",
       "1603106  1472089         7  Train  2012-06-23 16:06:03.087   573732\n",
       "1603107  1472089         7  Train  2012-06-25 23:20:35.603    39401\n",
       "1603108  1472089         7  Train   2012-04-30 14:01:42.52   175198\n",
       "1603109  1472089         7  Train  2012-04-30 13:52:45.823  1073263\n",
       "1603110  1472089         7  Train  2012-04-30 13:39:15.213   646949\n",
       "\n",
       "[1603111 rows x 5 columns]"
      ]
     },
     "execution_count": 3,
     "metadata": {},
     "output_type": "execute_result"
    }
   ],
   "source": [
    "apps"
   ]
  },
  {
   "cell_type": "code",
   "execution_count": 4,
   "id": "2ecc460c",
   "metadata": {},
   "outputs": [
    {
     "name": "stdout",
     "output_type": "stream",
     "text": [
      "<class 'pandas.core.frame.DataFrame'>\n",
      "RangeIndex: 1603111 entries, 0 to 1603110\n",
      "Data columns (total 5 columns):\n",
      " #   Column           Non-Null Count    Dtype \n",
      "---  ------           --------------    ----- \n",
      " 0   UserID           1603111 non-null  int64 \n",
      " 1   WindowID         1603111 non-null  int64 \n",
      " 2   Split            1603111 non-null  object\n",
      " 3   ApplicationDate  1603111 non-null  object\n",
      " 4   JobID            1603111 non-null  int64 \n",
      "dtypes: int64(3), object(2)\n",
      "memory usage: 61.2+ MB\n"
     ]
    }
   ],
   "source": [
    "apps.info()\n"
   ]
  },
  {
   "cell_type": "markdown",
   "id": "8ff9034d",
   "metadata": {},
   "source": [
    "# User History"
   ]
  },
  {
   "cell_type": "code",
   "execution_count": 5,
   "id": "1cb251bf",
   "metadata": {
    "scrolled": true
   },
   "outputs": [
    {
     "data": {
      "text/html": [
       "<div>\n",
       "<style scoped>\n",
       "    .dataframe tbody tr th:only-of-type {\n",
       "        vertical-align: middle;\n",
       "    }\n",
       "\n",
       "    .dataframe tbody tr th {\n",
       "        vertical-align: top;\n",
       "    }\n",
       "\n",
       "    .dataframe thead th {\n",
       "        text-align: right;\n",
       "    }\n",
       "</style>\n",
       "<table border=\"1\" class=\"dataframe\">\n",
       "  <thead>\n",
       "    <tr style=\"text-align: right;\">\n",
       "      <th></th>\n",
       "      <th>UserID</th>\n",
       "      <th>WindowID</th>\n",
       "      <th>Split</th>\n",
       "      <th>Sequence</th>\n",
       "      <th>JobTitle</th>\n",
       "    </tr>\n",
       "  </thead>\n",
       "  <tbody>\n",
       "    <tr>\n",
       "      <th>0</th>\n",
       "      <td>47</td>\n",
       "      <td>1</td>\n",
       "      <td>Train</td>\n",
       "      <td>1</td>\n",
       "      <td>National Space Communication Programs-Special ...</td>\n",
       "    </tr>\n",
       "    <tr>\n",
       "      <th>1</th>\n",
       "      <td>47</td>\n",
       "      <td>1</td>\n",
       "      <td>Train</td>\n",
       "      <td>2</td>\n",
       "      <td>Detention Officer</td>\n",
       "    </tr>\n",
       "    <tr>\n",
       "      <th>2</th>\n",
       "      <td>47</td>\n",
       "      <td>1</td>\n",
       "      <td>Train</td>\n",
       "      <td>3</td>\n",
       "      <td>Passenger Screener, TSA</td>\n",
       "    </tr>\n",
       "    <tr>\n",
       "      <th>3</th>\n",
       "      <td>72</td>\n",
       "      <td>1</td>\n",
       "      <td>Train</td>\n",
       "      <td>1</td>\n",
       "      <td>Lecturer, Department of Anthropology</td>\n",
       "    </tr>\n",
       "    <tr>\n",
       "      <th>4</th>\n",
       "      <td>72</td>\n",
       "      <td>1</td>\n",
       "      <td>Train</td>\n",
       "      <td>2</td>\n",
       "      <td>Student Assistant</td>\n",
       "    </tr>\n",
       "    <tr>\n",
       "      <th>...</th>\n",
       "      <td>...</td>\n",
       "      <td>...</td>\n",
       "      <td>...</td>\n",
       "      <td>...</td>\n",
       "      <td>...</td>\n",
       "    </tr>\n",
       "    <tr>\n",
       "      <th>1753896</th>\n",
       "      <td>1472060</td>\n",
       "      <td>7</td>\n",
       "      <td>Train</td>\n",
       "      <td>2</td>\n",
       "      <td>Sales Associate</td>\n",
       "    </tr>\n",
       "    <tr>\n",
       "      <th>1753897</th>\n",
       "      <td>1472060</td>\n",
       "      <td>7</td>\n",
       "      <td>Train</td>\n",
       "      <td>3</td>\n",
       "      <td>Sales Associate</td>\n",
       "    </tr>\n",
       "    <tr>\n",
       "      <th>1753898</th>\n",
       "      <td>1472089</td>\n",
       "      <td>7</td>\n",
       "      <td>Train</td>\n",
       "      <td>1</td>\n",
       "      <td>Founder and President-Children's Entertainment...</td>\n",
       "    </tr>\n",
       "    <tr>\n",
       "      <th>1753899</th>\n",
       "      <td>1472089</td>\n",
       "      <td>7</td>\n",
       "      <td>Train</td>\n",
       "      <td>2</td>\n",
       "      <td>Specification Sales</td>\n",
       "    </tr>\n",
       "    <tr>\n",
       "      <th>1753900</th>\n",
       "      <td>1472089</td>\n",
       "      <td>7</td>\n",
       "      <td>Train</td>\n",
       "      <td>3</td>\n",
       "      <td>Lighting Design Consultant</td>\n",
       "    </tr>\n",
       "  </tbody>\n",
       "</table>\n",
       "<p>1753901 rows × 5 columns</p>\n",
       "</div>"
      ],
      "text/plain": [
       "          UserID  WindowID  Split  Sequence  \\\n",
       "0             47         1  Train         1   \n",
       "1             47         1  Train         2   \n",
       "2             47         1  Train         3   \n",
       "3             72         1  Train         1   \n",
       "4             72         1  Train         2   \n",
       "...          ...       ...    ...       ...   \n",
       "1753896  1472060         7  Train         2   \n",
       "1753897  1472060         7  Train         3   \n",
       "1753898  1472089         7  Train         1   \n",
       "1753899  1472089         7  Train         2   \n",
       "1753900  1472089         7  Train         3   \n",
       "\n",
       "                                                  JobTitle  \n",
       "0        National Space Communication Programs-Special ...  \n",
       "1                                        Detention Officer  \n",
       "2                                  Passenger Screener, TSA  \n",
       "3                     Lecturer, Department of Anthropology  \n",
       "4                                        Student Assistant  \n",
       "...                                                    ...  \n",
       "1753896                                    Sales Associate  \n",
       "1753897                                    Sales Associate  \n",
       "1753898  Founder and President-Children's Entertainment...  \n",
       "1753899                                Specification Sales  \n",
       "1753900                         Lighting Design Consultant  \n",
       "\n",
       "[1753901 rows x 5 columns]"
      ]
     },
     "execution_count": 5,
     "metadata": {},
     "output_type": "execute_result"
    }
   ],
   "source": [
    "user_history"
   ]
  },
  {
   "cell_type": "code",
   "execution_count": 6,
   "id": "4f5776a7",
   "metadata": {},
   "outputs": [
    {
     "name": "stdout",
     "output_type": "stream",
     "text": [
      "<class 'pandas.core.frame.DataFrame'>\n",
      "RangeIndex: 1753901 entries, 0 to 1753900\n",
      "Data columns (total 5 columns):\n",
      " #   Column    Dtype \n",
      "---  ------    ----- \n",
      " 0   UserID    int64 \n",
      " 1   WindowID  int64 \n",
      " 2   Split     object\n",
      " 3   Sequence  int64 \n",
      " 4   JobTitle  object\n",
      "dtypes: int64(3), object(2)\n",
      "memory usage: 66.9+ MB\n"
     ]
    }
   ],
   "source": [
    "user_history.info()\n"
   ]
  },
  {
   "cell_type": "markdown",
   "id": "375521d5",
   "metadata": {},
   "source": [
    "# Jobs Data"
   ]
  },
  {
   "cell_type": "code",
   "execution_count": 7,
   "id": "33eea800",
   "metadata": {
    "scrolled": true
   },
   "outputs": [
    {
     "data": {
      "text/html": [
       "<div>\n",
       "<style scoped>\n",
       "    .dataframe tbody tr th:only-of-type {\n",
       "        vertical-align: middle;\n",
       "    }\n",
       "\n",
       "    .dataframe tbody tr th {\n",
       "        vertical-align: top;\n",
       "    }\n",
       "\n",
       "    .dataframe thead th {\n",
       "        text-align: right;\n",
       "    }\n",
       "</style>\n",
       "<table border=\"1\" class=\"dataframe\">\n",
       "  <thead>\n",
       "    <tr style=\"text-align: right;\">\n",
       "      <th></th>\n",
       "      <th>JobID</th>\n",
       "      <th>WindowID</th>\n",
       "      <th>Title</th>\n",
       "      <th>Description</th>\n",
       "      <th>Requirements</th>\n",
       "      <th>City</th>\n",
       "      <th>State</th>\n",
       "      <th>Country</th>\n",
       "      <th>Zip5</th>\n",
       "      <th>StartDate</th>\n",
       "      <th>EndDate</th>\n",
       "    </tr>\n",
       "  </thead>\n",
       "  <tbody>\n",
       "    <tr>\n",
       "      <th>0</th>\n",
       "      <td>1</td>\n",
       "      <td>1</td>\n",
       "      <td>Security Engineer/Technical Lead</td>\n",
       "      <td>&lt;p&gt;Security Clearance Required:&amp;nbsp; Top Secr...</td>\n",
       "      <td>&lt;p&gt;SKILL SET&lt;/p&gt;\\r&lt;p&gt;&amp;nbsp;&lt;/p&gt;\\r&lt;p&gt;Network Se...</td>\n",
       "      <td>Washington</td>\n",
       "      <td>DC</td>\n",
       "      <td>US</td>\n",
       "      <td>20531</td>\n",
       "      <td>2012-03-07 13:17:01.643</td>\n",
       "      <td>2012-04-06 23:59:59</td>\n",
       "    </tr>\n",
       "    <tr>\n",
       "      <th>1</th>\n",
       "      <td>4</td>\n",
       "      <td>1</td>\n",
       "      <td>SAP Business Analyst / WM</td>\n",
       "      <td>&lt;strong&gt;NO Corp. to Corp resumes&amp;nbsp;are bein...</td>\n",
       "      <td>&lt;p&gt;&lt;b&gt;WHAT YOU NEED: &lt;/b&gt;&lt;/p&gt;\\r&lt;p&gt;Four year co...</td>\n",
       "      <td>Charlotte</td>\n",
       "      <td>NC</td>\n",
       "      <td>US</td>\n",
       "      <td>28217</td>\n",
       "      <td>2012-03-21 02:03:44.137</td>\n",
       "      <td>2012-04-20 23:59:59</td>\n",
       "    </tr>\n",
       "    <tr>\n",
       "      <th>2</th>\n",
       "      <td>7</td>\n",
       "      <td>1</td>\n",
       "      <td>P/T HUMAN RESOURCES ASSISTANT</td>\n",
       "      <td>&lt;b&gt;    &lt;b&gt; P/T HUMAN RESOURCES ASSISTANT&lt;/b&gt; &lt;...</td>\n",
       "      <td>Please refer to the Job Description to view th...</td>\n",
       "      <td>Winter Park</td>\n",
       "      <td>FL</td>\n",
       "      <td>US</td>\n",
       "      <td>32792</td>\n",
       "      <td>2012-03-02 16:36:55.447</td>\n",
       "      <td>2012-04-01 23:59:59</td>\n",
       "    </tr>\n",
       "    <tr>\n",
       "      <th>3</th>\n",
       "      <td>8</td>\n",
       "      <td>1</td>\n",
       "      <td>Route Delivery Drivers</td>\n",
       "      <td>CITY BEVERAGES Come to work for the best in th...</td>\n",
       "      <td>Please refer to the Job Description to view th...</td>\n",
       "      <td>Orlando</td>\n",
       "      <td>FL</td>\n",
       "      <td>US</td>\n",
       "      <td>NaN</td>\n",
       "      <td>2012-03-03 09:01:10.077</td>\n",
       "      <td>2012-04-02 23:59:59</td>\n",
       "    </tr>\n",
       "    <tr>\n",
       "      <th>4</th>\n",
       "      <td>9</td>\n",
       "      <td>1</td>\n",
       "      <td>Housekeeping</td>\n",
       "      <td>I make  sure every part of their day is magica...</td>\n",
       "      <td>Please refer to the Job Description to view th...</td>\n",
       "      <td>Orlando</td>\n",
       "      <td>FL</td>\n",
       "      <td>US</td>\n",
       "      <td>NaN</td>\n",
       "      <td>2012-03-03 09:01:11.88</td>\n",
       "      <td>2012-04-02 23:59:59</td>\n",
       "    </tr>\n",
       "  </tbody>\n",
       "</table>\n",
       "</div>"
      ],
      "text/plain": [
       "   JobID  WindowID                             Title  \\\n",
       "0      1         1  Security Engineer/Technical Lead   \n",
       "1      4         1         SAP Business Analyst / WM   \n",
       "2      7         1     P/T HUMAN RESOURCES ASSISTANT   \n",
       "3      8         1            Route Delivery Drivers   \n",
       "4      9         1                      Housekeeping   \n",
       "\n",
       "                                         Description  \\\n",
       "0  <p>Security Clearance Required:&nbsp; Top Secr...   \n",
       "1  <strong>NO Corp. to Corp resumes&nbsp;are bein...   \n",
       "2  <b>    <b> P/T HUMAN RESOURCES ASSISTANT</b> <...   \n",
       "3  CITY BEVERAGES Come to work for the best in th...   \n",
       "4  I make  sure every part of their day is magica...   \n",
       "\n",
       "                                        Requirements         City State  \\\n",
       "0  <p>SKILL SET</p>\\r<p>&nbsp;</p>\\r<p>Network Se...   Washington    DC   \n",
       "1  <p><b>WHAT YOU NEED: </b></p>\\r<p>Four year co...    Charlotte    NC   \n",
       "2  Please refer to the Job Description to view th...  Winter Park    FL   \n",
       "3  Please refer to the Job Description to view th...      Orlando    FL   \n",
       "4  Please refer to the Job Description to view th...      Orlando    FL   \n",
       "\n",
       "  Country   Zip5                StartDate              EndDate  \n",
       "0      US  20531  2012-03-07 13:17:01.643  2012-04-06 23:59:59  \n",
       "1      US  28217  2012-03-21 02:03:44.137  2012-04-20 23:59:59  \n",
       "2      US  32792  2012-03-02 16:36:55.447  2012-04-01 23:59:59  \n",
       "3      US    NaN  2012-03-03 09:01:10.077  2012-04-02 23:59:59  \n",
       "4      US    NaN   2012-03-03 09:01:11.88  2012-04-02 23:59:59  "
      ]
     },
     "execution_count": 7,
     "metadata": {},
     "output_type": "execute_result"
    }
   ],
   "source": [
    "jobs.head()\n"
   ]
  },
  {
   "cell_type": "code",
   "execution_count": 8,
   "id": "a6e2f3c8",
   "metadata": {},
   "outputs": [
    {
     "data": {
      "text/plain": [
       "(1091923, 11)"
      ]
     },
     "execution_count": 8,
     "metadata": {},
     "output_type": "execute_result"
    }
   ],
   "source": [
    "jobs.shape"
   ]
  },
  {
   "cell_type": "code",
   "execution_count": 9,
   "id": "42b6fc98",
   "metadata": {},
   "outputs": [
    {
     "name": "stdout",
     "output_type": "stream",
     "text": [
      "<class 'pandas.core.frame.DataFrame'>\n",
      "RangeIndex: 1091923 entries, 0 to 1091922\n",
      "Data columns (total 11 columns):\n",
      " #   Column        Non-Null Count    Dtype \n",
      "---  ------        --------------    ----- \n",
      " 0   JobID         1091923 non-null  int64 \n",
      " 1   WindowID      1091923 non-null  int64 \n",
      " 2   Title         1091916 non-null  object\n",
      " 3   Description   1091913 non-null  object\n",
      " 4   Requirements  1050521 non-null  object\n",
      " 5   City          1091921 non-null  object\n",
      " 6   State         1091922 non-null  object\n",
      " 7   Country       1091920 non-null  object\n",
      " 8   Zip5          685724 non-null   object\n",
      " 9   StartDate     1091923 non-null  object\n",
      " 10  EndDate       1091914 non-null  object\n",
      "dtypes: int64(2), object(9)\n",
      "memory usage: 91.6+ MB\n"
     ]
    }
   ],
   "source": [
    "jobs.info()"
   ]
  },
  {
   "cell_type": "code",
   "execution_count": 10,
   "id": "9ed987ea",
   "metadata": {},
   "outputs": [
    {
     "data": {
      "text/plain": [
       "Index(['JobID', 'WindowID', 'Title', 'Description', 'Requirements', 'City',\n",
       "       'State', 'Country', 'Zip5', 'StartDate', 'EndDate'],\n",
       "      dtype='object')"
      ]
     },
     "execution_count": 10,
     "metadata": {},
     "output_type": "execute_result"
    }
   ],
   "source": [
    "jobs.columns"
   ]
  },
  {
   "cell_type": "markdown",
   "id": "c74b4bcd",
   "metadata": {},
   "source": [
    "# Users Data"
   ]
  },
  {
   "cell_type": "code",
   "execution_count": 11,
   "id": "867f21e8",
   "metadata": {},
   "outputs": [
    {
     "data": {
      "text/html": [
       "<div>\n",
       "<style scoped>\n",
       "    .dataframe tbody tr th:only-of-type {\n",
       "        vertical-align: middle;\n",
       "    }\n",
       "\n",
       "    .dataframe tbody tr th {\n",
       "        vertical-align: top;\n",
       "    }\n",
       "\n",
       "    .dataframe thead th {\n",
       "        text-align: right;\n",
       "    }\n",
       "</style>\n",
       "<table border=\"1\" class=\"dataframe\">\n",
       "  <thead>\n",
       "    <tr style=\"text-align: right;\">\n",
       "      <th></th>\n",
       "      <th>UserID</th>\n",
       "      <th>WindowID</th>\n",
       "      <th>Split</th>\n",
       "      <th>City</th>\n",
       "      <th>State</th>\n",
       "      <th>Country</th>\n",
       "      <th>ZipCode</th>\n",
       "      <th>DegreeType</th>\n",
       "      <th>Major</th>\n",
       "      <th>GraduationDate</th>\n",
       "      <th>WorkHistoryCount</th>\n",
       "      <th>TotalYearsExperience</th>\n",
       "      <th>CurrentlyEmployed</th>\n",
       "      <th>ManagedOthers</th>\n",
       "      <th>ManagedHowMany</th>\n",
       "    </tr>\n",
       "  </thead>\n",
       "  <tbody>\n",
       "    <tr>\n",
       "      <th>0</th>\n",
       "      <td>47</td>\n",
       "      <td>1</td>\n",
       "      <td>Train</td>\n",
       "      <td>Paramount</td>\n",
       "      <td>CA</td>\n",
       "      <td>US</td>\n",
       "      <td>90723</td>\n",
       "      <td>High School</td>\n",
       "      <td>NaN</td>\n",
       "      <td>1999-06-01 00:00:00</td>\n",
       "      <td>3</td>\n",
       "      <td>10.0</td>\n",
       "      <td>Yes</td>\n",
       "      <td>No</td>\n",
       "      <td>0</td>\n",
       "    </tr>\n",
       "    <tr>\n",
       "      <th>1</th>\n",
       "      <td>72</td>\n",
       "      <td>1</td>\n",
       "      <td>Train</td>\n",
       "      <td>La Mesa</td>\n",
       "      <td>CA</td>\n",
       "      <td>US</td>\n",
       "      <td>91941</td>\n",
       "      <td>Master's</td>\n",
       "      <td>Anthropology</td>\n",
       "      <td>2011-01-01 00:00:00</td>\n",
       "      <td>10</td>\n",
       "      <td>8.0</td>\n",
       "      <td>Yes</td>\n",
       "      <td>No</td>\n",
       "      <td>0</td>\n",
       "    </tr>\n",
       "    <tr>\n",
       "      <th>2</th>\n",
       "      <td>80</td>\n",
       "      <td>1</td>\n",
       "      <td>Train</td>\n",
       "      <td>Williamstown</td>\n",
       "      <td>NJ</td>\n",
       "      <td>US</td>\n",
       "      <td>08094</td>\n",
       "      <td>High School</td>\n",
       "      <td>Not Applicable</td>\n",
       "      <td>1985-06-01 00:00:00</td>\n",
       "      <td>5</td>\n",
       "      <td>11.0</td>\n",
       "      <td>Yes</td>\n",
       "      <td>Yes</td>\n",
       "      <td>5</td>\n",
       "    </tr>\n",
       "    <tr>\n",
       "      <th>3</th>\n",
       "      <td>98</td>\n",
       "      <td>1</td>\n",
       "      <td>Train</td>\n",
       "      <td>Astoria</td>\n",
       "      <td>NY</td>\n",
       "      <td>US</td>\n",
       "      <td>11105</td>\n",
       "      <td>Master's</td>\n",
       "      <td>Journalism</td>\n",
       "      <td>2007-05-01 00:00:00</td>\n",
       "      <td>3</td>\n",
       "      <td>3.0</td>\n",
       "      <td>Yes</td>\n",
       "      <td>No</td>\n",
       "      <td>0</td>\n",
       "    </tr>\n",
       "    <tr>\n",
       "      <th>4</th>\n",
       "      <td>123</td>\n",
       "      <td>1</td>\n",
       "      <td>Train</td>\n",
       "      <td>Baton Rouge</td>\n",
       "      <td>LA</td>\n",
       "      <td>US</td>\n",
       "      <td>70808</td>\n",
       "      <td>Bachelor's</td>\n",
       "      <td>Agricultural Business</td>\n",
       "      <td>2011-05-01 00:00:00</td>\n",
       "      <td>1</td>\n",
       "      <td>9.0</td>\n",
       "      <td>Yes</td>\n",
       "      <td>No</td>\n",
       "      <td>0</td>\n",
       "    </tr>\n",
       "  </tbody>\n",
       "</table>\n",
       "</div>"
      ],
      "text/plain": [
       "   UserID  WindowID  Split          City State Country ZipCode   DegreeType  \\\n",
       "0      47         1  Train     Paramount    CA      US   90723  High School   \n",
       "1      72         1  Train       La Mesa    CA      US   91941     Master's   \n",
       "2      80         1  Train  Williamstown    NJ      US   08094  High School   \n",
       "3      98         1  Train       Astoria    NY      US   11105     Master's   \n",
       "4     123         1  Train   Baton Rouge    LA      US   70808   Bachelor's   \n",
       "\n",
       "                   Major       GraduationDate  WorkHistoryCount  \\\n",
       "0                    NaN  1999-06-01 00:00:00                 3   \n",
       "1           Anthropology  2011-01-01 00:00:00                10   \n",
       "2         Not Applicable  1985-06-01 00:00:00                 5   \n",
       "3             Journalism  2007-05-01 00:00:00                 3   \n",
       "4  Agricultural Business  2011-05-01 00:00:00                 1   \n",
       "\n",
       "   TotalYearsExperience CurrentlyEmployed ManagedOthers  ManagedHowMany  \n",
       "0                  10.0               Yes            No               0  \n",
       "1                   8.0               Yes            No               0  \n",
       "2                  11.0               Yes           Yes               5  \n",
       "3                   3.0               Yes            No               0  \n",
       "4                   9.0               Yes            No               0  "
      ]
     },
     "execution_count": 11,
     "metadata": {},
     "output_type": "execute_result"
    }
   ],
   "source": [
    "users.head()\n"
   ]
  },
  {
   "cell_type": "code",
   "execution_count": 12,
   "id": "06406865",
   "metadata": {},
   "outputs": [
    {
     "data": {
      "text/plain": [
       "(389708, 15)"
      ]
     },
     "execution_count": 12,
     "metadata": {},
     "output_type": "execute_result"
    }
   ],
   "source": [
    "users.shape"
   ]
  },
  {
   "cell_type": "code",
   "execution_count": 13,
   "id": "0d4b98ac",
   "metadata": {},
   "outputs": [
    {
     "name": "stdout",
     "output_type": "stream",
     "text": [
      "<class 'pandas.core.frame.DataFrame'>\n",
      "RangeIndex: 389708 entries, 0 to 389707\n",
      "Data columns (total 15 columns):\n",
      " #   Column                Non-Null Count   Dtype  \n",
      "---  ------                --------------   -----  \n",
      " 0   UserID                389708 non-null  int64  \n",
      " 1   WindowID              389708 non-null  int64  \n",
      " 2   Split                 389708 non-null  object \n",
      " 3   City                  389708 non-null  object \n",
      " 4   State                 389218 non-null  object \n",
      " 5   Country               389708 non-null  object \n",
      " 6   ZipCode               387974 non-null  object \n",
      " 7   DegreeType            389708 non-null  object \n",
      " 8   Major                 292468 non-null  object \n",
      " 9   GraduationDate        269477 non-null  object \n",
      " 10  WorkHistoryCount      389708 non-null  int64  \n",
      " 11  TotalYearsExperience  375528 non-null  float64\n",
      " 12  CurrentlyEmployed     347632 non-null  object \n",
      " 13  ManagedOthers         389708 non-null  object \n",
      " 14  ManagedHowMany        389708 non-null  int64  \n",
      "dtypes: float64(1), int64(4), object(10)\n",
      "memory usage: 44.6+ MB\n"
     ]
    }
   ],
   "source": [
    "users.info()"
   ]
  },
  {
   "cell_type": "markdown",
   "id": "a2539178",
   "metadata": {},
   "source": [
    "# Exploratory Data Analysis (EDA) and Pre-processing"
   ]
  },
  {
   "cell_type": "markdown",
   "id": "50c8ad3f",
   "metadata": {},
   "source": [
    "Spliting data for **Training and Testing set for app, user_history , users**"
   ]
  },
  {
   "cell_type": "markdown",
   "id": "513301bd",
   "metadata": {},
   "source": [
    "**Apps**"
   ]
  },
  {
   "cell_type": "code",
   "execution_count": 14,
   "id": "6a91e74b",
   "metadata": {},
   "outputs": [],
   "source": [
    "apps_training = apps.loc[apps['Split'] == 'Train']\n",
    "apps_testing = apps.loc[apps['Split'] == 'Test']\n"
   ]
  },
  {
   "cell_type": "markdown",
   "id": "25a5b8de",
   "metadata": {},
   "source": [
    "**User_history**"
   ]
  },
  {
   "cell_type": "code",
   "execution_count": 15,
   "id": "34e9f6e1",
   "metadata": {},
   "outputs": [],
   "source": [
    "user_history_training = user_history.loc[user_history['Split'] =='Train']\n",
    "user_history_testing = user_history.loc[user_history['Split'] =='Test']\n"
   ]
  },
  {
   "cell_type": "markdown",
   "id": "f945ad93",
   "metadata": {},
   "source": [
    "**Users**"
   ]
  },
  {
   "cell_type": "code",
   "execution_count": 16,
   "id": "10a0aa79",
   "metadata": {},
   "outputs": [],
   "source": [
    "users_training = users.loc[users['Split']=='Train']\n",
    "users_testing = users.loc[users['Split']=='Test']"
   ]
  },
  {
   "cell_type": "code",
   "execution_count": 17,
   "id": "2041dae4",
   "metadata": {},
   "outputs": [
    {
     "data": {
      "text/html": [
       "<div>\n",
       "<style scoped>\n",
       "    .dataframe tbody tr th:only-of-type {\n",
       "        vertical-align: middle;\n",
       "    }\n",
       "\n",
       "    .dataframe tbody tr th {\n",
       "        vertical-align: top;\n",
       "    }\n",
       "\n",
       "    .dataframe thead th {\n",
       "        text-align: right;\n",
       "    }\n",
       "</style>\n",
       "<table border=\"1\" class=\"dataframe\">\n",
       "  <thead>\n",
       "    <tr style=\"text-align: right;\">\n",
       "      <th></th>\n",
       "      <th>UserID</th>\n",
       "      <th>WindowID</th>\n",
       "      <th>Split</th>\n",
       "      <th>City</th>\n",
       "      <th>State</th>\n",
       "      <th>Country</th>\n",
       "      <th>ZipCode</th>\n",
       "      <th>DegreeType</th>\n",
       "      <th>Major</th>\n",
       "      <th>GraduationDate</th>\n",
       "      <th>WorkHistoryCount</th>\n",
       "      <th>TotalYearsExperience</th>\n",
       "      <th>CurrentlyEmployed</th>\n",
       "      <th>ManagedOthers</th>\n",
       "      <th>ManagedHowMany</th>\n",
       "    </tr>\n",
       "  </thead>\n",
       "  <tbody>\n",
       "    <tr>\n",
       "      <th>0</th>\n",
       "      <td>47</td>\n",
       "      <td>1</td>\n",
       "      <td>Train</td>\n",
       "      <td>Paramount</td>\n",
       "      <td>CA</td>\n",
       "      <td>US</td>\n",
       "      <td>90723</td>\n",
       "      <td>High School</td>\n",
       "      <td>NaN</td>\n",
       "      <td>1999-06-01 00:00:00</td>\n",
       "      <td>3</td>\n",
       "      <td>10.0</td>\n",
       "      <td>Yes</td>\n",
       "      <td>No</td>\n",
       "      <td>0</td>\n",
       "    </tr>\n",
       "    <tr>\n",
       "      <th>1</th>\n",
       "      <td>72</td>\n",
       "      <td>1</td>\n",
       "      <td>Train</td>\n",
       "      <td>La Mesa</td>\n",
       "      <td>CA</td>\n",
       "      <td>US</td>\n",
       "      <td>91941</td>\n",
       "      <td>Master's</td>\n",
       "      <td>Anthropology</td>\n",
       "      <td>2011-01-01 00:00:00</td>\n",
       "      <td>10</td>\n",
       "      <td>8.0</td>\n",
       "      <td>Yes</td>\n",
       "      <td>No</td>\n",
       "      <td>0</td>\n",
       "    </tr>\n",
       "    <tr>\n",
       "      <th>2</th>\n",
       "      <td>80</td>\n",
       "      <td>1</td>\n",
       "      <td>Train</td>\n",
       "      <td>Williamstown</td>\n",
       "      <td>NJ</td>\n",
       "      <td>US</td>\n",
       "      <td>08094</td>\n",
       "      <td>High School</td>\n",
       "      <td>Not Applicable</td>\n",
       "      <td>1985-06-01 00:00:00</td>\n",
       "      <td>5</td>\n",
       "      <td>11.0</td>\n",
       "      <td>Yes</td>\n",
       "      <td>Yes</td>\n",
       "      <td>5</td>\n",
       "    </tr>\n",
       "    <tr>\n",
       "      <th>3</th>\n",
       "      <td>98</td>\n",
       "      <td>1</td>\n",
       "      <td>Train</td>\n",
       "      <td>Astoria</td>\n",
       "      <td>NY</td>\n",
       "      <td>US</td>\n",
       "      <td>11105</td>\n",
       "      <td>Master's</td>\n",
       "      <td>Journalism</td>\n",
       "      <td>2007-05-01 00:00:00</td>\n",
       "      <td>3</td>\n",
       "      <td>3.0</td>\n",
       "      <td>Yes</td>\n",
       "      <td>No</td>\n",
       "      <td>0</td>\n",
       "    </tr>\n",
       "    <tr>\n",
       "      <th>4</th>\n",
       "      <td>123</td>\n",
       "      <td>1</td>\n",
       "      <td>Train</td>\n",
       "      <td>Baton Rouge</td>\n",
       "      <td>LA</td>\n",
       "      <td>US</td>\n",
       "      <td>70808</td>\n",
       "      <td>Bachelor's</td>\n",
       "      <td>Agricultural Business</td>\n",
       "      <td>2011-05-01 00:00:00</td>\n",
       "      <td>1</td>\n",
       "      <td>9.0</td>\n",
       "      <td>Yes</td>\n",
       "      <td>No</td>\n",
       "      <td>0</td>\n",
       "    </tr>\n",
       "  </tbody>\n",
       "</table>\n",
       "</div>"
      ],
      "text/plain": [
       "   UserID  WindowID  Split          City State Country ZipCode   DegreeType  \\\n",
       "0      47         1  Train     Paramount    CA      US   90723  High School   \n",
       "1      72         1  Train       La Mesa    CA      US   91941     Master's   \n",
       "2      80         1  Train  Williamstown    NJ      US   08094  High School   \n",
       "3      98         1  Train       Astoria    NY      US   11105     Master's   \n",
       "4     123         1  Train   Baton Rouge    LA      US   70808   Bachelor's   \n",
       "\n",
       "                   Major       GraduationDate  WorkHistoryCount  \\\n",
       "0                    NaN  1999-06-01 00:00:00                 3   \n",
       "1           Anthropology  2011-01-01 00:00:00                10   \n",
       "2         Not Applicable  1985-06-01 00:00:00                 5   \n",
       "3             Journalism  2007-05-01 00:00:00                 3   \n",
       "4  Agricultural Business  2011-05-01 00:00:00                 1   \n",
       "\n",
       "   TotalYearsExperience CurrentlyEmployed ManagedOthers  ManagedHowMany  \n",
       "0                  10.0               Yes            No               0  \n",
       "1                   8.0               Yes            No               0  \n",
       "2                  11.0               Yes           Yes               5  \n",
       "3                   3.0               Yes            No               0  \n",
       "4                   9.0               Yes            No               0  "
      ]
     },
     "execution_count": 17,
     "metadata": {},
     "output_type": "execute_result"
    }
   ],
   "source": [
    "users_training.head()"
   ]
  },
  {
   "cell_type": "code",
   "execution_count": 18,
   "id": "c256cb7c",
   "metadata": {},
   "outputs": [
    {
     "data": {
      "text/html": [
       "<div>\n",
       "<style scoped>\n",
       "    .dataframe tbody tr th:only-of-type {\n",
       "        vertical-align: middle;\n",
       "    }\n",
       "\n",
       "    .dataframe tbody tr th {\n",
       "        vertical-align: top;\n",
       "    }\n",
       "\n",
       "    .dataframe thead th {\n",
       "        text-align: right;\n",
       "    }\n",
       "</style>\n",
       "<table border=\"1\" class=\"dataframe\">\n",
       "  <thead>\n",
       "    <tr style=\"text-align: right;\">\n",
       "      <th></th>\n",
       "      <th>JobID</th>\n",
       "      <th>WindowID</th>\n",
       "      <th>Title</th>\n",
       "      <th>Description</th>\n",
       "      <th>Requirements</th>\n",
       "      <th>City</th>\n",
       "      <th>State</th>\n",
       "      <th>Country</th>\n",
       "      <th>Zip5</th>\n",
       "      <th>StartDate</th>\n",
       "      <th>EndDate</th>\n",
       "    </tr>\n",
       "  </thead>\n",
       "  <tbody>\n",
       "    <tr>\n",
       "      <th>0</th>\n",
       "      <td>1</td>\n",
       "      <td>1</td>\n",
       "      <td>Security Engineer/Technical Lead</td>\n",
       "      <td>&lt;p&gt;Security Clearance Required:&amp;nbsp; Top Secr...</td>\n",
       "      <td>&lt;p&gt;SKILL SET&lt;/p&gt;\\r&lt;p&gt;&amp;nbsp;&lt;/p&gt;\\r&lt;p&gt;Network Se...</td>\n",
       "      <td>Washington</td>\n",
       "      <td>DC</td>\n",
       "      <td>US</td>\n",
       "      <td>20531</td>\n",
       "      <td>2012-03-07 13:17:01.643</td>\n",
       "      <td>2012-04-06 23:59:59</td>\n",
       "    </tr>\n",
       "    <tr>\n",
       "      <th>1</th>\n",
       "      <td>4</td>\n",
       "      <td>1</td>\n",
       "      <td>SAP Business Analyst / WM</td>\n",
       "      <td>&lt;strong&gt;NO Corp. to Corp resumes&amp;nbsp;are bein...</td>\n",
       "      <td>&lt;p&gt;&lt;b&gt;WHAT YOU NEED: &lt;/b&gt;&lt;/p&gt;\\r&lt;p&gt;Four year co...</td>\n",
       "      <td>Charlotte</td>\n",
       "      <td>NC</td>\n",
       "      <td>US</td>\n",
       "      <td>28217</td>\n",
       "      <td>2012-03-21 02:03:44.137</td>\n",
       "      <td>2012-04-20 23:59:59</td>\n",
       "    </tr>\n",
       "    <tr>\n",
       "      <th>2</th>\n",
       "      <td>7</td>\n",
       "      <td>1</td>\n",
       "      <td>P/T HUMAN RESOURCES ASSISTANT</td>\n",
       "      <td>&lt;b&gt;    &lt;b&gt; P/T HUMAN RESOURCES ASSISTANT&lt;/b&gt; &lt;...</td>\n",
       "      <td>Please refer to the Job Description to view th...</td>\n",
       "      <td>Winter Park</td>\n",
       "      <td>FL</td>\n",
       "      <td>US</td>\n",
       "      <td>32792</td>\n",
       "      <td>2012-03-02 16:36:55.447</td>\n",
       "      <td>2012-04-01 23:59:59</td>\n",
       "    </tr>\n",
       "    <tr>\n",
       "      <th>3</th>\n",
       "      <td>8</td>\n",
       "      <td>1</td>\n",
       "      <td>Route Delivery Drivers</td>\n",
       "      <td>CITY BEVERAGES Come to work for the best in th...</td>\n",
       "      <td>Please refer to the Job Description to view th...</td>\n",
       "      <td>Orlando</td>\n",
       "      <td>FL</td>\n",
       "      <td>US</td>\n",
       "      <td>NaN</td>\n",
       "      <td>2012-03-03 09:01:10.077</td>\n",
       "      <td>2012-04-02 23:59:59</td>\n",
       "    </tr>\n",
       "    <tr>\n",
       "      <th>4</th>\n",
       "      <td>9</td>\n",
       "      <td>1</td>\n",
       "      <td>Housekeeping</td>\n",
       "      <td>I make  sure every part of their day is magica...</td>\n",
       "      <td>Please refer to the Job Description to view th...</td>\n",
       "      <td>Orlando</td>\n",
       "      <td>FL</td>\n",
       "      <td>US</td>\n",
       "      <td>NaN</td>\n",
       "      <td>2012-03-03 09:01:11.88</td>\n",
       "      <td>2012-04-02 23:59:59</td>\n",
       "    </tr>\n",
       "  </tbody>\n",
       "</table>\n",
       "</div>"
      ],
      "text/plain": [
       "   JobID  WindowID                             Title  \\\n",
       "0      1         1  Security Engineer/Technical Lead   \n",
       "1      4         1         SAP Business Analyst / WM   \n",
       "2      7         1     P/T HUMAN RESOURCES ASSISTANT   \n",
       "3      8         1            Route Delivery Drivers   \n",
       "4      9         1                      Housekeeping   \n",
       "\n",
       "                                         Description  \\\n",
       "0  <p>Security Clearance Required:&nbsp; Top Secr...   \n",
       "1  <strong>NO Corp. to Corp resumes&nbsp;are bein...   \n",
       "2  <b>    <b> P/T HUMAN RESOURCES ASSISTANT</b> <...   \n",
       "3  CITY BEVERAGES Come to work for the best in th...   \n",
       "4  I make  sure every part of their day is magica...   \n",
       "\n",
       "                                        Requirements         City State  \\\n",
       "0  <p>SKILL SET</p>\\r<p>&nbsp;</p>\\r<p>Network Se...   Washington    DC   \n",
       "1  <p><b>WHAT YOU NEED: </b></p>\\r<p>Four year co...    Charlotte    NC   \n",
       "2  Please refer to the Job Description to view th...  Winter Park    FL   \n",
       "3  Please refer to the Job Description to view th...      Orlando    FL   \n",
       "4  Please refer to the Job Description to view th...      Orlando    FL   \n",
       "\n",
       "  Country   Zip5                StartDate              EndDate  \n",
       "0      US  20531  2012-03-07 13:17:01.643  2012-04-06 23:59:59  \n",
       "1      US  28217  2012-03-21 02:03:44.137  2012-04-20 23:59:59  \n",
       "2      US  32792  2012-03-02 16:36:55.447  2012-04-01 23:59:59  \n",
       "3      US    NaN  2012-03-03 09:01:10.077  2012-04-02 23:59:59  \n",
       "4      US    NaN   2012-03-03 09:01:11.88  2012-04-02 23:59:59  "
      ]
     },
     "execution_count": 18,
     "metadata": {},
     "output_type": "execute_result"
    }
   ],
   "source": [
    "jobs.head()\n"
   ]
  },
  {
   "cell_type": "markdown",
   "id": "b8bc7335",
   "metadata": {},
   "source": [
    "# EDA for job openings based on their location information\n"
   ]
  },
  {
   "cell_type": "code",
   "execution_count": 19,
   "id": "7857d332",
   "metadata": {},
   "outputs": [
    {
     "data": {
      "text/html": [
       "<div>\n",
       "<style scoped>\n",
       "    .dataframe tbody tr th:only-of-type {\n",
       "        vertical-align: middle;\n",
       "    }\n",
       "\n",
       "    .dataframe tbody tr th {\n",
       "        vertical-align: top;\n",
       "    }\n",
       "\n",
       "    .dataframe thead th {\n",
       "        text-align: right;\n",
       "    }\n",
       "</style>\n",
       "<table border=\"1\" class=\"dataframe\">\n",
       "  <thead>\n",
       "    <tr style=\"text-align: right;\">\n",
       "      <th></th>\n",
       "      <th>City</th>\n",
       "      <th>State</th>\n",
       "      <th>Country</th>\n",
       "      <th>Locationwise</th>\n",
       "    </tr>\n",
       "  </thead>\n",
       "  <tbody>\n",
       "    <tr>\n",
       "      <th>0</th>\n",
       "      <td>&amp;#60;&amp;#47;b&amp;#62; Brno &amp;#60;b&amp;#62;</td>\n",
       "      <td></td>\n",
       "      <td>CZ</td>\n",
       "      <td>1</td>\n",
       "    </tr>\n",
       "    <tr>\n",
       "      <th>1</th>\n",
       "      <td>&amp;#60;&amp;#47;b&amp;#62; Praha &amp;#60;b&amp;#62;</td>\n",
       "      <td></td>\n",
       "      <td>CZ</td>\n",
       "      <td>1</td>\n",
       "    </tr>\n",
       "    <tr>\n",
       "      <th>2</th>\n",
       "      <td>- Any</td>\n",
       "      <td></td>\n",
       "      <td>CZ</td>\n",
       "      <td>13</td>\n",
       "    </tr>\n",
       "    <tr>\n",
       "      <th>3</th>\n",
       "      <td>29 Palms</td>\n",
       "      <td>CA</td>\n",
       "      <td>US</td>\n",
       "      <td>1</td>\n",
       "    </tr>\n",
       "    <tr>\n",
       "      <th>4</th>\n",
       "      <td>&lt;</td>\n",
       "      <td></td>\n",
       "      <td>HU</td>\n",
       "      <td>1</td>\n",
       "    </tr>\n",
       "    <tr>\n",
       "      <th>...</th>\n",
       "      <td>...</td>\n",
       "      <td>...</td>\n",
       "      <td>...</td>\n",
       "      <td>...</td>\n",
       "    </tr>\n",
       "    <tr>\n",
       "      <th>15689</th>\n",
       "      <td>puebla</td>\n",
       "      <td></td>\n",
       "      <td>MX</td>\n",
       "      <td>1</td>\n",
       "    </tr>\n",
       "    <tr>\n",
       "      <th>15690</th>\n",
       "      <td>san jose</td>\n",
       "      <td></td>\n",
       "      <td>BJ</td>\n",
       "      <td>6</td>\n",
       "    </tr>\n",
       "    <tr>\n",
       "      <th>15691</th>\n",
       "      <td>san jose</td>\n",
       "      <td></td>\n",
       "      <td>UA</td>\n",
       "      <td>1</td>\n",
       "    </tr>\n",
       "    <tr>\n",
       "      <th>15692</th>\n",
       "      <td>seoul</td>\n",
       "      <td></td>\n",
       "      <td>KR</td>\n",
       "      <td>2</td>\n",
       "    </tr>\n",
       "    <tr>\n",
       "      <th>15693</th>\n",
       "      <td>ulsoor</td>\n",
       "      <td></td>\n",
       "      <td>BT</td>\n",
       "      <td>1</td>\n",
       "    </tr>\n",
       "  </tbody>\n",
       "</table>\n",
       "<p>15694 rows × 4 columns</p>\n",
       "</div>"
      ],
      "text/plain": [
       "                                     City State Country  Locationwise\n",
       "0       &#60;&#47;b&#62; Brno &#60;b&#62;            CZ             1\n",
       "1      &#60;&#47;b&#62; Praha &#60;b&#62;            CZ             1\n",
       "2                                   - Any            CZ            13\n",
       "3                                29 Palms    CA      US             1\n",
       "4                                       <            HU             1\n",
       "...                                   ...   ...     ...           ...\n",
       "15689                              puebla            MX             1\n",
       "15690                            san jose            BJ             6\n",
       "15691                            san jose            UA             1\n",
       "15692                               seoul            KR             2\n",
       "15693                              ulsoor            BT             1\n",
       "\n",
       "[15694 rows x 4 columns]"
      ]
     },
     "execution_count": 19,
     "metadata": {},
     "output_type": "execute_result"
    }
   ],
   "source": [
    "jobs.groupby(['City','State','Country']).size().reset_index(name='Locationwise')\n"
   ]
  },
  {
   "cell_type": "markdown",
   "id": "e14b7451",
   "metadata": {},
   "source": [
    "### Handling missing values"
   ]
  },
  {
   "cell_type": "markdown",
   "id": "5e064f68",
   "metadata": {},
   "source": [
    "Here note that for data attribute state, there are some blank/empty values are present.\n"
   ]
  },
  {
   "cell_type": "markdown",
   "id": "7b8e8976",
   "metadata": {},
   "source": [
    "Here we are getting insight about the jobs according to the **country , state and city wise to know the supply of the jobs**"
   ]
  },
  {
   "cell_type": "code",
   "execution_count": 20,
   "id": "34853c7a",
   "metadata": {
    "scrolled": true
   },
   "outputs": [
    {
     "data": {
      "text/html": [
       "<div>\n",
       "<style scoped>\n",
       "    .dataframe tbody tr th:only-of-type {\n",
       "        vertical-align: middle;\n",
       "    }\n",
       "\n",
       "    .dataframe tbody tr th {\n",
       "        vertical-align: top;\n",
       "    }\n",
       "\n",
       "    .dataframe thead th {\n",
       "        text-align: right;\n",
       "    }\n",
       "</style>\n",
       "<table border=\"1\" class=\"dataframe\">\n",
       "  <thead>\n",
       "    <tr style=\"text-align: right;\">\n",
       "      <th></th>\n",
       "      <th>Country</th>\n",
       "      <th>Locationwise</th>\n",
       "    </tr>\n",
       "  </thead>\n",
       "  <tbody>\n",
       "    <tr>\n",
       "      <th>59</th>\n",
       "      <td>US</td>\n",
       "      <td>1090462</td>\n",
       "    </tr>\n",
       "    <tr>\n",
       "      <th>4</th>\n",
       "      <td>AF</td>\n",
       "      <td>560</td>\n",
       "    </tr>\n",
       "    <tr>\n",
       "      <th>19</th>\n",
       "      <td>CZ</td>\n",
       "      <td>193</td>\n",
       "    </tr>\n",
       "    <tr>\n",
       "      <th>40</th>\n",
       "      <td>MX</td>\n",
       "      <td>93</td>\n",
       "    </tr>\n",
       "    <tr>\n",
       "      <th>52</th>\n",
       "      <td>TR</td>\n",
       "      <td>81</td>\n",
       "    </tr>\n",
       "  </tbody>\n",
       "</table>\n",
       "</div>"
      ],
      "text/plain": [
       "   Country  Locationwise\n",
       "59      US       1090462\n",
       "4       AF           560\n",
       "19      CZ           193\n",
       "40      MX            93\n",
       "52      TR            81"
      ]
     },
     "execution_count": 20,
     "metadata": {},
     "output_type": "execute_result"
    }
   ],
   "source": [
    "jobs.groupby(['Country']).size().reset_index(name='Locationwise').sort_values('Locationwise',\n",
    "                                                                             ascending=False).head()"
   ]
  },
  {
   "cell_type": "code",
   "execution_count": 21,
   "id": "a9468a43",
   "metadata": {},
   "outputs": [],
   "source": [
    "Country_wise_job = jobs.groupby(['Country']).size().reset_index(name='Locationwise').sort_values('Locationwise',\n",
    "                                                                             ascending=False)"
   ]
  },
  {
   "cell_type": "code",
   "execution_count": 22,
   "id": "dcf1fbab",
   "metadata": {
    "scrolled": true
   },
   "outputs": [
    {
     "data": {
      "text/html": [
       "<div>\n",
       "<style scoped>\n",
       "    .dataframe tbody tr th:only-of-type {\n",
       "        vertical-align: middle;\n",
       "    }\n",
       "\n",
       "    .dataframe tbody tr th {\n",
       "        vertical-align: top;\n",
       "    }\n",
       "\n",
       "    .dataframe thead th {\n",
       "        text-align: right;\n",
       "    }\n",
       "</style>\n",
       "<table border=\"1\" class=\"dataframe\">\n",
       "  <thead>\n",
       "    <tr style=\"text-align: right;\">\n",
       "      <th></th>\n",
       "      <th>Country</th>\n",
       "      <th>Locationwise</th>\n",
       "    </tr>\n",
       "  </thead>\n",
       "  <tbody>\n",
       "    <tr>\n",
       "      <th>59</th>\n",
       "      <td>US</td>\n",
       "      <td>1090462</td>\n",
       "    </tr>\n",
       "    <tr>\n",
       "      <th>4</th>\n",
       "      <td>AF</td>\n",
       "      <td>560</td>\n",
       "    </tr>\n",
       "    <tr>\n",
       "      <th>19</th>\n",
       "      <td>CZ</td>\n",
       "      <td>193</td>\n",
       "    </tr>\n",
       "    <tr>\n",
       "      <th>40</th>\n",
       "      <td>MX</td>\n",
       "      <td>93</td>\n",
       "    </tr>\n",
       "    <tr>\n",
       "      <th>52</th>\n",
       "      <td>TR</td>\n",
       "      <td>81</td>\n",
       "    </tr>\n",
       "  </tbody>\n",
       "</table>\n",
       "</div>"
      ],
      "text/plain": [
       "   Country  Locationwise\n",
       "59      US       1090462\n",
       "4       AF           560\n",
       "19      CZ           193\n",
       "40      MX            93\n",
       "52      TR            81"
      ]
     },
     "execution_count": 22,
     "metadata": {},
     "output_type": "execute_result"
    }
   ],
   "source": [
    "jobs.groupby([\"Country\"]).size().reset_index(name = \"Locationwise\").sort_values(\"Locationwise\",ascending= False).head()"
   ]
  },
  {
   "cell_type": "code",
   "execution_count": 23,
   "id": "560bd804",
   "metadata": {},
   "outputs": [
    {
     "data": {
      "text/html": [
       "<div>\n",
       "<style scoped>\n",
       "    .dataframe tbody tr th:only-of-type {\n",
       "        vertical-align: middle;\n",
       "    }\n",
       "\n",
       "    .dataframe tbody tr th {\n",
       "        vertical-align: top;\n",
       "    }\n",
       "\n",
       "    .dataframe thead th {\n",
       "        text-align: right;\n",
       "    }\n",
       "</style>\n",
       "<table border=\"1\" class=\"dataframe\">\n",
       "  <thead>\n",
       "    <tr style=\"text-align: right;\">\n",
       "      <th></th>\n",
       "      <th>Country</th>\n",
       "      <th>Locationwise</th>\n",
       "    </tr>\n",
       "  </thead>\n",
       "  <tbody>\n",
       "    <tr>\n",
       "      <th>59</th>\n",
       "      <td>US</td>\n",
       "      <td>1090462</td>\n",
       "    </tr>\n",
       "    <tr>\n",
       "      <th>4</th>\n",
       "      <td>AF</td>\n",
       "      <td>560</td>\n",
       "    </tr>\n",
       "    <tr>\n",
       "      <th>19</th>\n",
       "      <td>CZ</td>\n",
       "      <td>193</td>\n",
       "    </tr>\n",
       "    <tr>\n",
       "      <th>40</th>\n",
       "      <td>MX</td>\n",
       "      <td>93</td>\n",
       "    </tr>\n",
       "    <tr>\n",
       "      <th>52</th>\n",
       "      <td>TR</td>\n",
       "      <td>81</td>\n",
       "    </tr>\n",
       "    <tr>\n",
       "      <th>...</th>\n",
       "      <td>...</td>\n",
       "      <td>...</td>\n",
       "    </tr>\n",
       "    <tr>\n",
       "      <th>22</th>\n",
       "      <td>EE</td>\n",
       "      <td>1</td>\n",
       "    </tr>\n",
       "    <tr>\n",
       "      <th>46</th>\n",
       "      <td>PK</td>\n",
       "      <td>1</td>\n",
       "    </tr>\n",
       "    <tr>\n",
       "      <th>27</th>\n",
       "      <td>GH</td>\n",
       "      <td>1</td>\n",
       "    </tr>\n",
       "    <tr>\n",
       "      <th>1</th>\n",
       "      <td>37416</td>\n",
       "      <td>1</td>\n",
       "    </tr>\n",
       "    <tr>\n",
       "      <th>0</th>\n",
       "      <td>32905</td>\n",
       "      <td>1</td>\n",
       "    </tr>\n",
       "  </tbody>\n",
       "</table>\n",
       "<p>66 rows × 2 columns</p>\n",
       "</div>"
      ],
      "text/plain": [
       "   Country  Locationwise\n",
       "59      US       1090462\n",
       "4       AF           560\n",
       "19      CZ           193\n",
       "40      MX            93\n",
       "52      TR            81\n",
       "..     ...           ...\n",
       "22      EE             1\n",
       "46      PK             1\n",
       "27      GH             1\n",
       "1    37416             1\n",
       "0    32905             1\n",
       "\n",
       "[66 rows x 2 columns]"
      ]
     },
     "execution_count": 23,
     "metadata": {},
     "output_type": "execute_result"
    }
   ],
   "source": [
    "Country_wise_job"
   ]
  },
  {
   "cell_type": "code",
   "execution_count": 24,
   "id": "62a22fc2",
   "metadata": {},
   "outputs": [
    {
     "data": {
      "image/png": "[encoded data removed]",
      "text/plain": [
       "<Figure size 1000x600 with 1 Axes>"
      ]
     },
     "metadata": {},
     "output_type": "display_data"
    }
   ],
   "source": [
    "plt.figure(figsize=(10,6))\n",
    "ax = sns.barplot(x=\"Country\", y=\"Locationwise\", data=Country_wise_job)\n",
    "ax.set_xticklabels(ax.get_xticklabels(), rotation=90, ha=\"right\")\n",
    "ax.set_title('Country wise job openings')\n",
    "plt.tight_layout()\n",
    "plt.show()"
   ]
  },
  {
   "cell_type": "markdown",
   "id": "c2733271",
   "metadata": {},
   "source": [
    "Since Most of the jobs are in use we will consider us region only and build model for us region only "
   ]
  },
  {
   "cell_type": "markdown",
   "id": "2fc6bad6",
   "metadata": {},
   "source": [
    "# Jobs in US region only"
   ]
  },
  {
   "cell_type": "code",
   "execution_count": 25,
   "id": "a90ba5df",
   "metadata": {},
   "outputs": [],
   "source": [
    "jobs_US = jobs.loc[jobs['Country']=='US']\n"
   ]
  },
  {
   "cell_type": "code",
   "execution_count": 26,
   "id": "46be2b52",
   "metadata": {},
   "outputs": [
    {
     "data": {
      "text/plain": [
       "(1090462, 11)"
      ]
     },
     "execution_count": 26,
     "metadata": {},
     "output_type": "execute_result"
    }
   ],
   "source": [
    "jobs_US.shape"
   ]
  },
  {
   "cell_type": "code",
   "execution_count": 27,
   "id": "702cbb10",
   "metadata": {},
   "outputs": [
    {
     "data": {
      "text/html": [
       "<div>\n",
       "<style scoped>\n",
       "    .dataframe tbody tr th:only-of-type {\n",
       "        vertical-align: middle;\n",
       "    }\n",
       "\n",
       "    .dataframe tbody tr th {\n",
       "        vertical-align: top;\n",
       "    }\n",
       "\n",
       "    .dataframe thead th {\n",
       "        text-align: right;\n",
       "    }\n",
       "</style>\n",
       "<table border=\"1\" class=\"dataframe\">\n",
       "  <thead>\n",
       "    <tr style=\"text-align: right;\">\n",
       "      <th></th>\n",
       "      <th>City</th>\n",
       "      <th>State</th>\n",
       "      <th>Country</th>\n",
       "    </tr>\n",
       "  </thead>\n",
       "  <tbody>\n",
       "    <tr>\n",
       "      <th>0</th>\n",
       "      <td>Washington</td>\n",
       "      <td>DC</td>\n",
       "      <td>US</td>\n",
       "    </tr>\n",
       "    <tr>\n",
       "      <th>1</th>\n",
       "      <td>Charlotte</td>\n",
       "      <td>NC</td>\n",
       "      <td>US</td>\n",
       "    </tr>\n",
       "    <tr>\n",
       "      <th>2</th>\n",
       "      <td>Winter Park</td>\n",
       "      <td>FL</td>\n",
       "      <td>US</td>\n",
       "    </tr>\n",
       "    <tr>\n",
       "      <th>3</th>\n",
       "      <td>Orlando</td>\n",
       "      <td>FL</td>\n",
       "      <td>US</td>\n",
       "    </tr>\n",
       "    <tr>\n",
       "      <th>4</th>\n",
       "      <td>Orlando</td>\n",
       "      <td>FL</td>\n",
       "      <td>US</td>\n",
       "    </tr>\n",
       "    <tr>\n",
       "      <th>...</th>\n",
       "      <td>...</td>\n",
       "      <td>...</td>\n",
       "      <td>...</td>\n",
       "    </tr>\n",
       "    <tr>\n",
       "      <th>1091918</th>\n",
       "      <td>Amsterdam</td>\n",
       "      <td>NY</td>\n",
       "      <td>US</td>\n",
       "    </tr>\n",
       "    <tr>\n",
       "      <th>1091919</th>\n",
       "      <td>Birmingham</td>\n",
       "      <td>AL</td>\n",
       "      <td>US</td>\n",
       "    </tr>\n",
       "    <tr>\n",
       "      <th>1091920</th>\n",
       "      <td>Carthage</td>\n",
       "      <td>MS</td>\n",
       "      <td>US</td>\n",
       "    </tr>\n",
       "    <tr>\n",
       "      <th>1091921</th>\n",
       "      <td>Warren</td>\n",
       "      <td>MI</td>\n",
       "      <td>US</td>\n",
       "    </tr>\n",
       "    <tr>\n",
       "      <th>1091922</th>\n",
       "      <td>Syracuse</td>\n",
       "      <td>NY</td>\n",
       "      <td>US</td>\n",
       "    </tr>\n",
       "  </tbody>\n",
       "</table>\n",
       "<p>1090462 rows × 3 columns</p>\n",
       "</div>"
      ],
      "text/plain": [
       "                City State Country\n",
       "0         Washington    DC      US\n",
       "1          Charlotte    NC      US\n",
       "2        Winter Park    FL      US\n",
       "3            Orlando    FL      US\n",
       "4            Orlando    FL      US\n",
       "...              ...   ...     ...\n",
       "1091918    Amsterdam    NY      US\n",
       "1091919   Birmingham    AL      US\n",
       "1091920     Carthage    MS      US\n",
       "1091921       Warren    MI      US\n",
       "1091922     Syracuse    NY      US\n",
       "\n",
       "[1090462 rows x 3 columns]"
      ]
     },
     "execution_count": 27,
     "metadata": {},
     "output_type": "execute_result"
    }
   ],
   "source": [
    "jobs_US[['City','State','Country']]\n"
   ]
  },
  {
   "cell_type": "code",
   "execution_count": 28,
   "id": "bd63d025",
   "metadata": {},
   "outputs": [
    {
     "data": {
      "text/html": [
       "<div>\n",
       "<style scoped>\n",
       "    .dataframe tbody tr th:only-of-type {\n",
       "        vertical-align: middle;\n",
       "    }\n",
       "\n",
       "    .dataframe tbody tr th {\n",
       "        vertical-align: top;\n",
       "    }\n",
       "\n",
       "    .dataframe thead th {\n",
       "        text-align: right;\n",
       "    }\n",
       "</style>\n",
       "<table border=\"1\" class=\"dataframe\">\n",
       "  <thead>\n",
       "    <tr style=\"text-align: right;\">\n",
       "      <th></th>\n",
       "      <th>City</th>\n",
       "      <th>State</th>\n",
       "      <th>Country</th>\n",
       "      <th>Locationwise</th>\n",
       "    </tr>\n",
       "  </thead>\n",
       "  <tbody>\n",
       "    <tr>\n",
       "      <th>6601</th>\n",
       "      <td>Houston</td>\n",
       "      <td>TX</td>\n",
       "      <td>US</td>\n",
       "      <td>19306</td>\n",
       "    </tr>\n",
       "    <tr>\n",
       "      <th>9835</th>\n",
       "      <td>New York</td>\n",
       "      <td>NY</td>\n",
       "      <td>US</td>\n",
       "      <td>18395</td>\n",
       "    </tr>\n",
       "    <tr>\n",
       "      <th>2651</th>\n",
       "      <td>Chicago</td>\n",
       "      <td>IL</td>\n",
       "      <td>US</td>\n",
       "      <td>17806</td>\n",
       "    </tr>\n",
       "    <tr>\n",
       "      <th>3475</th>\n",
       "      <td>Dallas</td>\n",
       "      <td>TX</td>\n",
       "      <td>US</td>\n",
       "      <td>13139</td>\n",
       "    </tr>\n",
       "    <tr>\n",
       "      <th>610</th>\n",
       "      <td>Atlanta</td>\n",
       "      <td>GA</td>\n",
       "      <td>US</td>\n",
       "      <td>12352</td>\n",
       "    </tr>\n",
       "  </tbody>\n",
       "</table>\n",
       "</div>"
      ],
      "text/plain": [
       "          City State Country  Locationwise\n",
       "6601   Houston    TX      US         19306\n",
       "9835  New York    NY      US         18395\n",
       "2651   Chicago    IL      US         17806\n",
       "3475    Dallas    TX      US         13139\n",
       "610    Atlanta    GA      US         12352"
      ]
     },
     "execution_count": 28,
     "metadata": {},
     "output_type": "execute_result"
    }
   ],
   "source": [
    "jobs_US.groupby(['City','State','Country']).size().reset_index(name='Locationwise').sort_values('Locationwise',\n",
    "                                                                             ascending=False).head()"
   ]
  },
  {
   "cell_type": "markdown",
   "id": "f837d365",
   "metadata": {},
   "source": [
    "# Statewise job opening in us"
   ]
  },
  {
   "cell_type": "code",
   "execution_count": 29,
   "id": "be96c841",
   "metadata": {},
   "outputs": [],
   "source": [
    "State_wise_job_US = jobs_US.groupby(['State']).size().reset_index(name=\n",
    "                                                                       'Locationwise'\n",
    "                                                                      ).sort_values('Locationwise',ascending=False)"
   ]
  },
  {
   "cell_type": "code",
   "execution_count": 30,
   "id": "6df6e048",
   "metadata": {},
   "outputs": [
    {
     "data": {
      "text/html": [
       "<div>\n",
       "<style scoped>\n",
       "    .dataframe tbody tr th:only-of-type {\n",
       "        vertical-align: middle;\n",
       "    }\n",
       "\n",
       "    .dataframe tbody tr th {\n",
       "        vertical-align: top;\n",
       "    }\n",
       "\n",
       "    .dataframe thead th {\n",
       "        text-align: right;\n",
       "    }\n",
       "</style>\n",
       "<table border=\"1\" class=\"dataframe\">\n",
       "  <thead>\n",
       "    <tr style=\"text-align: right;\">\n",
       "      <th></th>\n",
       "      <th>State</th>\n",
       "      <th>Locationwise</th>\n",
       "    </tr>\n",
       "  </thead>\n",
       "  <tbody>\n",
       "    <tr>\n",
       "      <th>5</th>\n",
       "      <td>CA</td>\n",
       "      <td>109630</td>\n",
       "    </tr>\n",
       "    <tr>\n",
       "      <th>48</th>\n",
       "      <td>TX</td>\n",
       "      <td>98071</td>\n",
       "    </tr>\n",
       "    <tr>\n",
       "      <th>10</th>\n",
       "      <td>FL</td>\n",
       "      <td>71024</td>\n",
       "    </tr>\n",
       "    <tr>\n",
       "      <th>16</th>\n",
       "      <td>IL</td>\n",
       "      <td>58743</td>\n",
       "    </tr>\n",
       "    <tr>\n",
       "      <th>38</th>\n",
       "      <td>NY</td>\n",
       "      <td>53998</td>\n",
       "    </tr>\n",
       "  </tbody>\n",
       "</table>\n",
       "</div>"
      ],
      "text/plain": [
       "   State  Locationwise\n",
       "5     CA        109630\n",
       "48    TX         98071\n",
       "10    FL         71024\n",
       "16    IL         58743\n",
       "38    NY         53998"
      ]
     },
     "execution_count": 30,
     "metadata": {},
     "output_type": "execute_result"
    }
   ],
   "source": [
    "State_wise_job_US.head()"
   ]
  },
  {
   "cell_type": "code",
   "execution_count": 31,
   "id": "8453b4b7",
   "metadata": {},
   "outputs": [
    {
     "data": {
      "image/png": "[encoded data removed]",
      "text/plain": [
       "<Figure size 1200x600 with 1 Axes>"
      ]
     },
     "metadata": {},
     "output_type": "display_data"
    }
   ],
   "source": [
    "plt.figure(figsize=(12,6))\n",
    "ax = sns.barplot(x=\"State\", y=\"Locationwise\",data=State_wise_job_US)\n",
    "ax.set_xticklabels(ax.get_xticklabels(), rotation=90, ha=\"right\")\n",
    "ax.set_title('State wise job openings')\n",
    "plt.tight_layout()\n",
    "plt.show()"
   ]
  },
  {
   "cell_type": "markdown",
   "id": "82141efe",
   "metadata": {},
   "source": [
    "# Citywise job opening at us"
   ]
  },
  {
   "cell_type": "code",
   "execution_count": 32,
   "id": "1743aa4d",
   "metadata": {},
   "outputs": [],
   "source": [
    "City_wise_location = jobs_US.groupby(['City']).size().reset_index(\n",
    "    name='Locationwise').sort_values('Locationwise',ascending=False)"
   ]
  },
  {
   "cell_type": "code",
   "execution_count": 33,
   "id": "af2fe0e9",
   "metadata": {},
   "outputs": [
    {
     "data": {
      "text/html": [
       "<div>\n",
       "<style scoped>\n",
       "    .dataframe tbody tr th:only-of-type {\n",
       "        vertical-align: middle;\n",
       "    }\n",
       "\n",
       "    .dataframe tbody tr th {\n",
       "        vertical-align: top;\n",
       "    }\n",
       "\n",
       "    .dataframe thead th {\n",
       "        text-align: right;\n",
       "    }\n",
       "</style>\n",
       "<table border=\"1\" class=\"dataframe\">\n",
       "  <thead>\n",
       "    <tr style=\"text-align: right;\">\n",
       "      <th></th>\n",
       "      <th>City</th>\n",
       "      <th>Locationwise</th>\n",
       "    </tr>\n",
       "  </thead>\n",
       "  <tbody>\n",
       "    <tr>\n",
       "      <th>4564</th>\n",
       "      <td>Houston</td>\n",
       "      <td>19323</td>\n",
       "    </tr>\n",
       "    <tr>\n",
       "      <th>6809</th>\n",
       "      <td>New York</td>\n",
       "      <td>18402</td>\n",
       "    </tr>\n",
       "    <tr>\n",
       "      <th>1782</th>\n",
       "      <td>Chicago</td>\n",
       "      <td>17806</td>\n",
       "    </tr>\n",
       "    <tr>\n",
       "      <th>2351</th>\n",
       "      <td>Dallas</td>\n",
       "      <td>13202</td>\n",
       "    </tr>\n",
       "    <tr>\n",
       "      <th>408</th>\n",
       "      <td>Atlanta</td>\n",
       "      <td>12365</td>\n",
       "    </tr>\n",
       "  </tbody>\n",
       "</table>\n",
       "</div>"
      ],
      "text/plain": [
       "          City  Locationwise\n",
       "4564   Houston         19323\n",
       "6809  New York         18402\n",
       "1782   Chicago         17806\n",
       "2351    Dallas         13202\n",
       "408    Atlanta         12365"
      ]
     },
     "execution_count": 33,
     "metadata": {},
     "output_type": "execute_result"
    }
   ],
   "source": [
    "City_wise_location_th = City_wise_location.loc[City_wise_location['Locationwise']>=12]\n",
    "City_wise_location_th.head()\n"
   ]
  },
  {
   "cell_type": "code",
   "execution_count": 34,
   "id": "7cf8e4e3",
   "metadata": {},
   "outputs": [
    {
     "data": {
      "image/png": "[encoded data removed]",
      "text/plain": [
       "<Figure size 1200x600 with 1 Axes>"
      ]
     },
     "metadata": {},
     "output_type": "display_data"
    }
   ],
   "source": [
    "plt.figure(figsize=(12,6))\n",
    "ax = sns.barplot(x=\"City\", y=\"Locationwise\",data=City_wise_location_th.head(50))\n",
    "ax.set_xticklabels(ax.get_xticklabels(), rotation=90, ha=\"right\")\n",
    "ax.set_title('City wise job openings')\n",
    "plt.tight_layout()\n",
    "plt.show()\n"
   ]
  },
  {
   "cell_type": "markdown",
   "id": "98210a30",
   "metadata": {},
   "source": [
    "Insights:\n",
    "When we do analysis state-wise then CA, TX, FL, IL and NY are having more job opening then other state\n",
    "When we do analysis city-wise then Houston, New York, Chicago, Dallas, Atlanta and Phoenix are having more jobs compare to other cities\n",
    "We have analyze the demand (job openings). Now there is time to analyze the supply(user-profiles)"
   ]
  },
  {
   "cell_type": "markdown",
   "id": "e2f7ada8",
   "metadata": {},
   "source": [
    "# EDA for User profiles based on their location information\n"
   ]
  },
  {
   "cell_type": "code",
   "execution_count": 35,
   "id": "22ca457e",
   "metadata": {},
   "outputs": [
    {
     "data": {
      "text/html": [
       "<div>\n",
       "<style scoped>\n",
       "    .dataframe tbody tr th:only-of-type {\n",
       "        vertical-align: middle;\n",
       "    }\n",
       "\n",
       "    .dataframe tbody tr th {\n",
       "        vertical-align: top;\n",
       "    }\n",
       "\n",
       "    .dataframe thead th {\n",
       "        text-align: right;\n",
       "    }\n",
       "</style>\n",
       "<table border=\"1\" class=\"dataframe\">\n",
       "  <thead>\n",
       "    <tr style=\"text-align: right;\">\n",
       "      <th></th>\n",
       "      <th>Country</th>\n",
       "      <th>Locationwise</th>\n",
       "    </tr>\n",
       "  </thead>\n",
       "  <tbody>\n",
       "    <tr>\n",
       "      <th>105</th>\n",
       "      <td>US</td>\n",
       "      <td>365740</td>\n",
       "    </tr>\n",
       "    <tr>\n",
       "      <th>47</th>\n",
       "      <td>IN</td>\n",
       "      <td>236</td>\n",
       "    </tr>\n",
       "    <tr>\n",
       "      <th>18</th>\n",
       "      <td>CA</td>\n",
       "      <td>108</td>\n",
       "    </tr>\n",
       "    <tr>\n",
       "      <th>81</th>\n",
       "      <td>PH</td>\n",
       "      <td>59</td>\n",
       "    </tr>\n",
       "    <tr>\n",
       "      <th>82</th>\n",
       "      <td>PK</td>\n",
       "      <td>59</td>\n",
       "    </tr>\n",
       "  </tbody>\n",
       "</table>\n",
       "</div>"
      ],
      "text/plain": [
       "    Country  Locationwise\n",
       "105      US        365740\n",
       "47       IN           236\n",
       "18       CA           108\n",
       "81       PH            59\n",
       "82       PK            59"
      ]
     },
     "execution_count": 35,
     "metadata": {},
     "output_type": "execute_result"
    }
   ],
   "source": [
    "users_training.groupby(['Country']).size().reset_index(name='Locationwise').sort_values('Locationwise',\n",
    "                                                                                        ascending=False).head()"
   ]
  },
  {
   "cell_type": "markdown",
   "id": "1e26dd7b",
   "metadata": {},
   "source": [
    "# Users looking jobs from us region countrywise"
   ]
  },
  {
   "cell_type": "code",
   "execution_count": 36,
   "id": "c64d0b64",
   "metadata": {},
   "outputs": [
    {
     "data": {
      "text/plain": [
       "(365740, 15)"
      ]
     },
     "execution_count": 36,
     "metadata": {},
     "output_type": "execute_result"
    }
   ],
   "source": [
    "user_training_US = users_training.loc[users_training['Country']=='US']\n",
    "user_training_US.shape"
   ]
  },
  {
   "cell_type": "markdown",
   "id": "94627da3",
   "metadata": {},
   "source": [
    "# Users looking jobs from us region Statewise"
   ]
  },
  {
   "cell_type": "code",
   "execution_count": 37,
   "id": "31303648",
   "metadata": {},
   "outputs": [
    {
     "data": {
      "text/html": [
       "<div>\n",
       "<style scoped>\n",
       "    .dataframe tbody tr th:only-of-type {\n",
       "        vertical-align: middle;\n",
       "    }\n",
       "\n",
       "    .dataframe tbody tr th {\n",
       "        vertical-align: top;\n",
       "    }\n",
       "\n",
       "    .dataframe thead th {\n",
       "        text-align: right;\n",
       "    }\n",
       "</style>\n",
       "<table border=\"1\" class=\"dataframe\">\n",
       "  <thead>\n",
       "    <tr style=\"text-align: right;\">\n",
       "      <th></th>\n",
       "      <th>State</th>\n",
       "      <th>Locationwise_state</th>\n",
       "    </tr>\n",
       "  </thead>\n",
       "  <tbody>\n",
       "    <tr>\n",
       "      <th>11</th>\n",
       "      <td>FL</td>\n",
       "      <td>40381</td>\n",
       "    </tr>\n",
       "    <tr>\n",
       "      <th>47</th>\n",
       "      <td>TX</td>\n",
       "      <td>33260</td>\n",
       "    </tr>\n",
       "    <tr>\n",
       "      <th>6</th>\n",
       "      <td>CA</td>\n",
       "      <td>31141</td>\n",
       "    </tr>\n",
       "    <tr>\n",
       "      <th>17</th>\n",
       "      <td>IL</td>\n",
       "      <td>22557</td>\n",
       "    </tr>\n",
       "    <tr>\n",
       "      <th>37</th>\n",
       "      <td>NY</td>\n",
       "      <td>19299</td>\n",
       "    </tr>\n",
       "  </tbody>\n",
       "</table>\n",
       "</div>"
      ],
      "text/plain": [
       "   State  Locationwise_state\n",
       "11    FL               40381\n",
       "47    TX               33260\n",
       "6     CA               31141\n",
       "17    IL               22557\n",
       "37    NY               19299"
      ]
     },
     "execution_count": 37,
     "metadata": {},
     "output_type": "execute_result"
    }
   ],
   "source": [
    "user_training_US_state_wise = user_training_US.groupby(['State']).size().reset_index(\n",
    "    name='Locationwise_state').sort_values('Locationwise_state',ascending=False)\n",
    "user_training_US_state_wise.head()\n"
   ]
  },
  {
   "cell_type": "code",
   "execution_count": 38,
   "id": "7c76cb34",
   "metadata": {},
   "outputs": [
    {
     "data": {
      "text/html": [
       "<div>\n",
       "<style scoped>\n",
       "    .dataframe tbody tr th:only-of-type {\n",
       "        vertical-align: middle;\n",
       "    }\n",
       "\n",
       "    .dataframe tbody tr th {\n",
       "        vertical-align: top;\n",
       "    }\n",
       "\n",
       "    .dataframe thead th {\n",
       "        text-align: right;\n",
       "    }\n",
       "</style>\n",
       "<table border=\"1\" class=\"dataframe\">\n",
       "  <thead>\n",
       "    <tr style=\"text-align: right;\">\n",
       "      <th></th>\n",
       "      <th>State</th>\n",
       "      <th>Locationwise_state</th>\n",
       "    </tr>\n",
       "  </thead>\n",
       "  <tbody>\n",
       "    <tr>\n",
       "      <th>11</th>\n",
       "      <td>FL</td>\n",
       "      <td>40381</td>\n",
       "    </tr>\n",
       "    <tr>\n",
       "      <th>47</th>\n",
       "      <td>TX</td>\n",
       "      <td>33260</td>\n",
       "    </tr>\n",
       "    <tr>\n",
       "      <th>6</th>\n",
       "      <td>CA</td>\n",
       "      <td>31141</td>\n",
       "    </tr>\n",
       "    <tr>\n",
       "      <th>17</th>\n",
       "      <td>IL</td>\n",
       "      <td>22557</td>\n",
       "    </tr>\n",
       "    <tr>\n",
       "      <th>37</th>\n",
       "      <td>NY</td>\n",
       "      <td>19299</td>\n",
       "    </tr>\n",
       "  </tbody>\n",
       "</table>\n",
       "</div>"
      ],
      "text/plain": [
       "   State  Locationwise_state\n",
       "11    FL               40381\n",
       "47    TX               33260\n",
       "6     CA               31141\n",
       "17    IL               22557\n",
       "37    NY               19299"
      ]
     },
     "execution_count": 38,
     "metadata": {},
     "output_type": "execute_result"
    }
   ],
   "source": [
    "user_training_US_th = user_training_US_state_wise.loc[user_training_US_state_wise['Locationwise_state']>=12]\n",
    "user_training_US_th.head()\n"
   ]
  },
  {
   "cell_type": "code",
   "execution_count": 39,
   "id": "5759370b",
   "metadata": {},
   "outputs": [
    {
     "data": {
      "image/png": "[encoded data removed]",
      "text/plain": [
       "<Figure size 1200x600 with 1 Axes>"
      ]
     },
     "metadata": {},
     "output_type": "display_data"
    }
   ],
   "source": [
    "plt.figure(figsize=(12,6))\n",
    "ax = sns.barplot(x=\"State\", y=\"Locationwise_state\",data=user_training_US_th.head(50))\n",
    "ax.set_xticklabels(ax.get_xticklabels(), rotation=90, ha=\"right\")\n",
    "ax.set_title('State wise job seekers')\n",
    "plt.tight_layout()\n",
    "plt.show()\n"
   ]
  },
  {
   "cell_type": "code",
   "execution_count": 40,
   "id": "e0e8fe95",
   "metadata": {},
   "outputs": [],
   "source": [
    "user_training_US_city_wise = user_training_US.groupby(['City']).size().reset_index(\n",
    "    name='Locationwise_city').sort_values('Locationwise_city',ascending=False)"
   ]
  },
  {
   "cell_type": "code",
   "execution_count": 41,
   "id": "09640d9a",
   "metadata": {},
   "outputs": [
    {
     "data": {
      "text/html": [
       "<div>\n",
       "<style scoped>\n",
       "    .dataframe tbody tr th:only-of-type {\n",
       "        vertical-align: middle;\n",
       "    }\n",
       "\n",
       "    .dataframe tbody tr th {\n",
       "        vertical-align: top;\n",
       "    }\n",
       "\n",
       "    .dataframe thead th {\n",
       "        text-align: right;\n",
       "    }\n",
       "</style>\n",
       "<table border=\"1\" class=\"dataframe\">\n",
       "  <thead>\n",
       "    <tr style=\"text-align: right;\">\n",
       "      <th></th>\n",
       "      <th>City</th>\n",
       "      <th>Locationwise_city</th>\n",
       "    </tr>\n",
       "  </thead>\n",
       "  <tbody>\n",
       "    <tr>\n",
       "      <th>1528</th>\n",
       "      <td>Chicago</td>\n",
       "      <td>6964</td>\n",
       "    </tr>\n",
       "    <tr>\n",
       "      <th>4066</th>\n",
       "      <td>Houston</td>\n",
       "      <td>5487</td>\n",
       "    </tr>\n",
       "    <tr>\n",
       "      <th>4177</th>\n",
       "      <td>Indianapolis</td>\n",
       "      <td>4450</td>\n",
       "    </tr>\n",
       "    <tr>\n",
       "      <th>5604</th>\n",
       "      <td>Miami</td>\n",
       "      <td>4359</td>\n",
       "    </tr>\n",
       "    <tr>\n",
       "      <th>6965</th>\n",
       "      <td>Philadelphia</td>\n",
       "      <td>4347</td>\n",
       "    </tr>\n",
       "  </tbody>\n",
       "</table>\n",
       "</div>"
      ],
      "text/plain": [
       "              City  Locationwise_city\n",
       "1528       Chicago               6964\n",
       "4066       Houston               5487\n",
       "4177  Indianapolis               4450\n",
       "5604         Miami               4359\n",
       "6965  Philadelphia               4347"
      ]
     },
     "execution_count": 41,
     "metadata": {},
     "output_type": "execute_result"
    }
   ],
   "source": [
    "user_training_US_City_th = user_training_US_city_wise.loc[user_training_US_city_wise['Locationwise_city']>=12]\n",
    "user_training_US_City_th.head()"
   ]
  },
  {
   "cell_type": "code",
   "execution_count": 42,
   "id": "4b9730c3",
   "metadata": {},
   "outputs": [
    {
     "data": {
      "image/png": "[encoded data removed]",
      "text/plain": [
       "<Figure size 1200x600 with 1 Axes>"
      ]
     },
     "metadata": {},
     "output_type": "display_data"
    }
   ],
   "source": [
    "plt.figure(figsize=(12,6))\n",
    "ax = sns.barplot(x=\"City\", y=\"Locationwise_city\",data=user_training_US_City_th.head(50))\n",
    "ax.set_xticklabels(ax.get_xticklabels(), rotation=90, ha=\"right\")\n",
    "ax.set_title('State wise job seekers')\n",
    "plt.tight_layout()\n",
    "plt.show()"
   ]
  },
  {
   "cell_type": "markdown",
   "id": "667c45dd",
   "metadata": {},
   "source": [
    "Here note that we are going to consider the US region for our further analysis. We are not removing any data records right now.\n",
    "\n",
    "Up-till now we have obtain the popular state and city for job seeker and job creator"
   ]
  },
  {
   "cell_type": "markdown",
   "id": "a8591ebd",
   "metadata": {},
   "source": [
    "Lets take 10000 rows for initial base model"
   ]
  },
  {
   "cell_type": "code",
   "execution_count": 43,
   "id": "e4542b2f",
   "metadata": {},
   "outputs": [],
   "source": [
    "jobs_US_base_line = jobs_US.iloc[:10000,:]"
   ]
  },
  {
   "cell_type": "code",
   "execution_count": 44,
   "id": "72506271",
   "metadata": {},
   "outputs": [
    {
     "data": {
      "text/html": [
       "<div>\n",
       "<style scoped>\n",
       "    .dataframe tbody tr th:only-of-type {\n",
       "        vertical-align: middle;\n",
       "    }\n",
       "\n",
       "    .dataframe tbody tr th {\n",
       "        vertical-align: top;\n",
       "    }\n",
       "\n",
       "    .dataframe thead th {\n",
       "        text-align: right;\n",
       "    }\n",
       "</style>\n",
       "<table border=\"1\" class=\"dataframe\">\n",
       "  <thead>\n",
       "    <tr style=\"text-align: right;\">\n",
       "      <th></th>\n",
       "      <th>JobID</th>\n",
       "      <th>WindowID</th>\n",
       "      <th>Title</th>\n",
       "      <th>Description</th>\n",
       "      <th>Requirements</th>\n",
       "      <th>City</th>\n",
       "      <th>State</th>\n",
       "      <th>Country</th>\n",
       "    </tr>\n",
       "  </thead>\n",
       "  <tbody>\n",
       "    <tr>\n",
       "      <th>0</th>\n",
       "      <td>1</td>\n",
       "      <td>1</td>\n",
       "      <td>Security Engineer/Technical Lead</td>\n",
       "      <td>&lt;p&gt;Security Clearance Required:&amp;nbsp; Top Secr...</td>\n",
       "      <td>&lt;p&gt;SKILL SET&lt;/p&gt;\\r&lt;p&gt;&amp;nbsp;&lt;/p&gt;\\r&lt;p&gt;Network Se...</td>\n",
       "      <td>Washington</td>\n",
       "      <td>DC</td>\n",
       "      <td>US</td>\n",
       "    </tr>\n",
       "    <tr>\n",
       "      <th>1</th>\n",
       "      <td>4</td>\n",
       "      <td>1</td>\n",
       "      <td>SAP Business Analyst / WM</td>\n",
       "      <td>&lt;strong&gt;NO Corp. to Corp resumes&amp;nbsp;are bein...</td>\n",
       "      <td>&lt;p&gt;&lt;b&gt;WHAT YOU NEED: &lt;/b&gt;&lt;/p&gt;\\r&lt;p&gt;Four year co...</td>\n",
       "      <td>Charlotte</td>\n",
       "      <td>NC</td>\n",
       "      <td>US</td>\n",
       "    </tr>\n",
       "    <tr>\n",
       "      <th>2</th>\n",
       "      <td>7</td>\n",
       "      <td>1</td>\n",
       "      <td>P/T HUMAN RESOURCES ASSISTANT</td>\n",
       "      <td>&lt;b&gt;    &lt;b&gt; P/T HUMAN RESOURCES ASSISTANT&lt;/b&gt; &lt;...</td>\n",
       "      <td>Please refer to the Job Description to view th...</td>\n",
       "      <td>Winter Park</td>\n",
       "      <td>FL</td>\n",
       "      <td>US</td>\n",
       "    </tr>\n",
       "    <tr>\n",
       "      <th>3</th>\n",
       "      <td>8</td>\n",
       "      <td>1</td>\n",
       "      <td>Route Delivery Drivers</td>\n",
       "      <td>CITY BEVERAGES Come to work for the best in th...</td>\n",
       "      <td>Please refer to the Job Description to view th...</td>\n",
       "      <td>Orlando</td>\n",
       "      <td>FL</td>\n",
       "      <td>US</td>\n",
       "    </tr>\n",
       "    <tr>\n",
       "      <th>4</th>\n",
       "      <td>9</td>\n",
       "      <td>1</td>\n",
       "      <td>Housekeeping</td>\n",
       "      <td>I make  sure every part of their day is magica...</td>\n",
       "      <td>Please refer to the Job Description to view th...</td>\n",
       "      <td>Orlando</td>\n",
       "      <td>FL</td>\n",
       "      <td>US</td>\n",
       "    </tr>\n",
       "  </tbody>\n",
       "</table>\n",
       "</div>"
      ],
      "text/plain": [
       "   JobID  WindowID                             Title  \\\n",
       "0      1         1  Security Engineer/Technical Lead   \n",
       "1      4         1         SAP Business Analyst / WM   \n",
       "2      7         1     P/T HUMAN RESOURCES ASSISTANT   \n",
       "3      8         1            Route Delivery Drivers   \n",
       "4      9         1                      Housekeeping   \n",
       "\n",
       "                                         Description  \\\n",
       "0  <p>Security Clearance Required:&nbsp; Top Secr...   \n",
       "1  <strong>NO Corp. to Corp resumes&nbsp;are bein...   \n",
       "2  <b>    <b> P/T HUMAN RESOURCES ASSISTANT</b> <...   \n",
       "3  CITY BEVERAGES Come to work for the best in th...   \n",
       "4  I make  sure every part of their day is magica...   \n",
       "\n",
       "                                        Requirements         City State  \\\n",
       "0  <p>SKILL SET</p>\\r<p>&nbsp;</p>\\r<p>Network Se...   Washington    DC   \n",
       "1  <p><b>WHAT YOU NEED: </b></p>\\r<p>Four year co...    Charlotte    NC   \n",
       "2  Please refer to the Job Description to view th...  Winter Park    FL   \n",
       "3  Please refer to the Job Description to view th...      Orlando    FL   \n",
       "4  Please refer to the Job Description to view th...      Orlando    FL   \n",
       "\n",
       "  Country  \n",
       "0      US  \n",
       "1      US  \n",
       "2      US  \n",
       "3      US  \n",
       "4      US  "
      ]
     },
     "execution_count": 44,
     "metadata": {},
     "output_type": "execute_result"
    }
   ],
   "source": [
    "jobs_US_base_line = jobs_US.iloc[0:10000,0:8]\n",
    "jobs_US_base_line.head()\n"
   ]
  },
  {
   "cell_type": "code",
   "execution_count": 45,
   "id": "fb743679",
   "metadata": {},
   "outputs": [],
   "source": [
    "jobs_US_base_line['Title'] = jobs_US_base_line['Title'].fillna('')\n",
    "jobs_US_base_line['Description'] = jobs_US_base_line['Description'].fillna('')\n",
    "jobs_US_base_line['Requirements'] = jobs_US_base_line['Requirements'].fillna('')\n",
    "\n",
    "jobs_US_base_line['Description'] = jobs_US_base_line['Title'] + jobs_US_base_line['Description']"
   ]
  },
  {
   "cell_type": "code",
   "execution_count": 46,
   "id": "e128b63d",
   "metadata": {},
   "outputs": [
    {
     "data": {
      "text/plain": [
       "'Security Engineer/Technical Lead<p>Security Clearance Required:&nbsp; Top Secret </p>\\\\r<p>Job Number: TMR-447</p>\\\\r<p>Location of Job:&nbsp; Washington, DC</p>\\\\r<p>TMR, Inc. is an Equal Employment Opportunity Company</p>\\\\r<p>For more job opportunities with TMR, visit our website <a href=\"http://www.tmrhq.com/\">www.tmrhq.com</a></p>\\\\r<p>Send Resumes to HR@tmrhq2.com</p>\\\\r<p>&nbsp;</p>\\\\r<p>JOB SUMMARY:</p>\\\\r<p>&nbsp;</p>\\\\r<p>Leads the customer&rsquo;s overall Cyber Security strategy, formalizes service offerings consisted with ITIL best practices, and provides design and architecture support.</p>\\\\r<p>&nbsp;</p>\\\\r<ul>\\\\r    <li>Provide security design / architecture support for OJP&rsquo;s IT Security Division (ITSD) </li>\\\\r    <li>Leads the SECOPS team in the day to day OJP Security Operations support&nbsp; </li>\\\\r    <li>Provides direction when needed in a security incident or technical issues </li>\\\\r    <li>Works in concert with network operations on design /integration for best security posture</li>\\\\r    <li>Supports business development functions including Capture Management, Proposal Development and responses, and other initiatives to include conferences, trade shows, webinars, developing white papers and the like.</li>\\\\r    <li>Identifies resources and mentors in-house talent to ensure TMR remains responsive to growing initiatives and contracts with qualified personnel.&nbsp;&nbsp; </li>\\\\r</ul>\\\\r<p>&nbsp;</p>\\\\r<p><a href=\"https://www.tmrhq.com/jobapplicationstep1.aspx\"><span></span></a>&nbsp;</p>'"
      ]
     },
     "execution_count": 46,
     "metadata": {},
     "output_type": "execute_result"
    }
   ],
   "source": [
    "jobs_US_base_line['Description'][0]"
   ]
  },
  {
   "cell_type": "code",
   "execution_count": 47,
   "id": "741835ea",
   "metadata": {},
   "outputs": [],
   "source": [
    "tf = TfidfVectorizer(analyzer='word',ngram_range=(1, 2),min_df=0, stop_words='english')\n",
    "tfidf_matrix = tf.fit_transform(jobs_US_base_line['Description'])"
   ]
  },
  {
   "cell_type": "code",
   "execution_count": 48,
   "id": "bb497ae4",
   "metadata": {},
   "outputs": [
    {
     "data": {
      "text/plain": [
       "(10000, 515343)"
      ]
     },
     "execution_count": 48,
     "metadata": {},
     "output_type": "execute_result"
    }
   ],
   "source": [
    "tfidf_matrix.shape"
   ]
  },
  {
   "cell_type": "code",
   "execution_count": 49,
   "id": "f3aebe26",
   "metadata": {},
   "outputs": [],
   "source": [
    "cosine_sim = linear_kernel(tfidf_matrix, tfidf_matrix)\n"
   ]
  },
  {
   "cell_type": "markdown",
   "id": "5a80efc2",
   "metadata": {},
   "source": [
    "# Vectors for cosine similarity"
   ]
  },
  {
   "cell_type": "code",
   "execution_count": 50,
   "id": "bff89c0b",
   "metadata": {},
   "outputs": [
    {
     "data": {
      "text/plain": [
       "array([[1.        , 0.04300443, 0.00643851, ..., 0.03807697, 0.03807697,\n",
       "        0.03807697],\n",
       "       [0.04300443, 1.        , 0.00581514, ..., 0.02963034, 0.02963034,\n",
       "        0.02963034],\n",
       "       [0.00643851, 0.00581514, 1.        , ..., 0.02314751, 0.02314751,\n",
       "        0.02314751],\n",
       "       ...,\n",
       "       [0.03807697, 0.02963034, 0.02314751, ..., 1.        , 1.        ,\n",
       "        1.        ],\n",
       "       [0.03807697, 0.02963034, 0.02314751, ..., 1.        , 1.        ,\n",
       "        1.        ],\n",
       "       [0.03807697, 0.02963034, 0.02314751, ..., 1.        , 1.        ,\n",
       "        1.        ]])"
      ]
     },
     "execution_count": 50,
     "metadata": {},
     "output_type": "execute_result"
    }
   ],
   "source": [
    "cosine_sim"
   ]
  },
  {
   "cell_type": "code",
   "execution_count": 51,
   "id": "0384aec9",
   "metadata": {},
   "outputs": [],
   "source": [
    "jobs_US_base_line = jobs_US_base_line.reset_index()\n",
    "titles = jobs_US_base_line['Title']\n",
    "indices = pd.Series(jobs_US_base_line.index, index=jobs_US_base_line['Title'])"
   ]
  },
  {
   "cell_type": "code",
   "execution_count": 52,
   "id": "462a74f4",
   "metadata": {},
   "outputs": [
    {
     "data": {
      "text/plain": [
       "Title\n",
       "Security Engineer/Technical Lead                0\n",
       "SAP Business Analyst / WM                       1\n",
       "P/T HUMAN RESOURCES ASSISTANT                   2\n",
       "Route Delivery Drivers                          3\n",
       "Housekeeping                                    4\n",
       "SALON/SPA COORDINATOR                           5\n",
       "SUPERINTENDENT                                  6\n",
       "ELECTRONIC PRE-PRESS PROFESSIONAL               7\n",
       "UTILITY LINE TRUCK OPERATOR/ DIGGER DERRICK     8\n",
       "CONSTRUCTION PROJECT MGR & PM TRAINEE           9\n",
       "Administrative Assistant                       10\n",
       "ACCOUNT EXECUTIVES                             11\n",
       "COMMERCIAL ESTIMATOR                           12\n",
       "Immediate Opening                              13\n",
       "TESL Adjunct                                   14\n",
       "Salon Manager/Hairstylists                     15\n",
       "VOCATIONAL COUNSELOR                           16\n",
       "GALLERY SALES POSITIONS                        17\n",
       "SURGICAL SCRUB TECH                            18\n",
       "Real Estate Agent                              19\n",
       "LPN, RN, CNA, TECHS                            20\n",
       "Vacation Sales Representatives                 21\n",
       "Top Sales Agent                                22\n",
       "Quick Service Food & Beverage                  23\n",
       "CREDIT/COLLECTIONS ASSISTANT                   24\n",
       "POOL TECH                                      25\n",
       "EXPERIENCED ROOFERS                            26\n",
       "ARIZA TALENT & MODELING                        27\n",
       "CDL CLASS A DRIVER                             28\n",
       "Skilled Tradesman                              29\n",
       "dtype: int64"
      ]
     },
     "execution_count": 52,
     "metadata": {},
     "output_type": "execute_result"
    }
   ],
   "source": [
    "indices.head(30)"
   ]
  },
  {
   "cell_type": "markdown",
   "id": "23d6663b",
   "metadata": {},
   "source": [
    "### Program to find similar types of jobs based on title"
   ]
  },
  {
   "cell_type": "code",
   "execution_count": 53,
   "id": "ee5f00c7",
   "metadata": {},
   "outputs": [],
   "source": [
    "def get_recommendations(title):\n",
    "    idx = indices[title]\n",
    "    #print (idx)\n",
    "    sim_scores = list(enumerate(cosine_sim[idx]))\n",
    "    #print (sim_scores)\n",
    "    sim_scores = sorted(sim_scores, key=lambda x: x[1], reverse=True)\n",
    "    job_indices = [i[0] for i in sim_scores]\n",
    "    return pd.DataFrame(titles.iloc[job_indices].reset_index()[\"Title\"])"
   ]
  },
  {
   "cell_type": "code",
   "execution_count": 54,
   "id": "f3b07abe",
   "metadata": {},
   "outputs": [
    {
     "data": {
      "text/html": [
       "<div>\n",
       "<style scoped>\n",
       "    .dataframe tbody tr th:only-of-type {\n",
       "        vertical-align: middle;\n",
       "    }\n",
       "\n",
       "    .dataframe tbody tr th {\n",
       "        vertical-align: top;\n",
       "    }\n",
       "\n",
       "    .dataframe thead th {\n",
       "        text-align: right;\n",
       "    }\n",
       "</style>\n",
       "<table border=\"1\" class=\"dataframe\">\n",
       "  <thead>\n",
       "    <tr style=\"text-align: right;\">\n",
       "      <th></th>\n",
       "      <th>Title</th>\n",
       "    </tr>\n",
       "  </thead>\n",
       "  <tbody>\n",
       "    <tr>\n",
       "      <th>0</th>\n",
       "      <td>SAP Business Analyst / WM</td>\n",
       "    </tr>\n",
       "    <tr>\n",
       "      <th>1</th>\n",
       "      <td>SAP FI/CO Business Consultant</td>\n",
       "    </tr>\n",
       "    <tr>\n",
       "      <th>2</th>\n",
       "      <td>SAP FI/CO Business Analyst</td>\n",
       "    </tr>\n",
       "    <tr>\n",
       "      <th>3</th>\n",
       "      <td>SAP Basis Administrator</td>\n",
       "    </tr>\n",
       "    <tr>\n",
       "      <th>4</th>\n",
       "      <td>SAP Sales and Distribution Solution Architect</td>\n",
       "    </tr>\n",
       "  </tbody>\n",
       "</table>\n",
       "</div>"
      ],
      "text/plain": [
       "                                           Title\n",
       "0                      SAP Business Analyst / WM\n",
       "1                  SAP FI/CO Business Consultant\n",
       "2                     SAP FI/CO Business Analyst\n",
       "3                        SAP Basis Administrator\n",
       "4  SAP Sales and Distribution Solution Architect"
      ]
     },
     "execution_count": 54,
     "metadata": {},
     "output_type": "execute_result"
    }
   ],
   "source": [
    "get_recommendations(\"SAP Business Analyst / WM\").head()"
   ]
  },
  {
   "cell_type": "code",
   "execution_count": 55,
   "id": "49afbf8c",
   "metadata": {
    "scrolled": true
   },
   "outputs": [
    {
     "data": {
      "text/html": [
       "<div>\n",
       "<style scoped>\n",
       "    .dataframe tbody tr th:only-of-type {\n",
       "        vertical-align: middle;\n",
       "    }\n",
       "\n",
       "    .dataframe tbody tr th {\n",
       "        vertical-align: top;\n",
       "    }\n",
       "\n",
       "    .dataframe thead th {\n",
       "        text-align: right;\n",
       "    }\n",
       "</style>\n",
       "<table border=\"1\" class=\"dataframe\">\n",
       "  <thead>\n",
       "    <tr style=\"text-align: right;\">\n",
       "      <th></th>\n",
       "      <th>Title</th>\n",
       "    </tr>\n",
       "  </thead>\n",
       "  <tbody>\n",
       "    <tr>\n",
       "      <th>0</th>\n",
       "      <td>SECURITY GUARDS</td>\n",
       "    </tr>\n",
       "    <tr>\n",
       "      <th>1</th>\n",
       "      <td>Security Guards - Part-Time Pool</td>\n",
       "    </tr>\n",
       "    <tr>\n",
       "      <th>2</th>\n",
       "      <td>Unarmed Security Guards</td>\n",
       "    </tr>\n",
       "    <tr>\n",
       "      <th>3</th>\n",
       "      <td>Senior Security Engineer</td>\n",
       "    </tr>\n",
       "    <tr>\n",
       "      <th>4</th>\n",
       "      <td>Oregon Licensed Security Guards Needed</td>\n",
       "    </tr>\n",
       "  </tbody>\n",
       "</table>\n",
       "</div>"
      ],
      "text/plain": [
       "                                    Title\n",
       "0                         SECURITY GUARDS\n",
       "1        Security Guards - Part-Time Pool\n",
       "2                 Unarmed Security Guards\n",
       "3                Senior Security Engineer\n",
       "4  Oregon Licensed Security Guards Needed"
      ]
     },
     "execution_count": 55,
     "metadata": {},
     "output_type": "execute_result"
    }
   ],
   "source": [
    "get_recommendations(\"SECURITY GUARDS\").head(10).head()"
   ]
  },
  {
   "cell_type": "markdown",
   "id": "8ecc81a1",
   "metadata": {},
   "source": [
    "# Second approach"
   ]
  },
  {
   "cell_type": "markdown",
   "id": "39d456c3",
   "metadata": {},
   "source": [
    "Find out similar users -- Find out for which jobs they have applied -- suggest those job to the other users who shared similar user profile.\n",
    "We are finding put similar user profile based on their degree type, majors and total years of experience.\n",
    "\n",
    "We will get to 10 similar users.\n",
    "We will find our which are the jobs for which these users have applied\n",
    "We take an union of these jobs and recommend the jobs all these user base"
   ]
  },
  {
   "cell_type": "code",
   "execution_count": 47,
   "id": "368297f4",
   "metadata": {},
   "outputs": [
    {
     "data": {
      "text/html": [
       "<div>\n",
       "<style scoped>\n",
       "    .dataframe tbody tr th:only-of-type {\n",
       "        vertical-align: middle;\n",
       "    }\n",
       "\n",
       "    .dataframe tbody tr th {\n",
       "        vertical-align: top;\n",
       "    }\n",
       "\n",
       "    .dataframe thead th {\n",
       "        text-align: right;\n",
       "    }\n",
       "</style>\n",
       "<table border=\"1\" class=\"dataframe\">\n",
       "  <thead>\n",
       "    <tr style=\"text-align: right;\">\n",
       "      <th></th>\n",
       "      <th>UserID</th>\n",
       "      <th>WindowID</th>\n",
       "      <th>Split</th>\n",
       "      <th>City</th>\n",
       "      <th>State</th>\n",
       "      <th>Country</th>\n",
       "      <th>ZipCode</th>\n",
       "      <th>DegreeType</th>\n",
       "      <th>Major</th>\n",
       "      <th>GraduationDate</th>\n",
       "      <th>WorkHistoryCount</th>\n",
       "      <th>TotalYearsExperience</th>\n",
       "      <th>CurrentlyEmployed</th>\n",
       "      <th>ManagedOthers</th>\n",
       "      <th>ManagedHowMany</th>\n",
       "    </tr>\n",
       "  </thead>\n",
       "  <tbody>\n",
       "    <tr>\n",
       "      <th>0</th>\n",
       "      <td>47</td>\n",
       "      <td>1</td>\n",
       "      <td>Train</td>\n",
       "      <td>Paramount</td>\n",
       "      <td>CA</td>\n",
       "      <td>US</td>\n",
       "      <td>90723</td>\n",
       "      <td>High School</td>\n",
       "      <td>NaN</td>\n",
       "      <td>1999-06-01 00:00:00</td>\n",
       "      <td>3</td>\n",
       "      <td>10.0</td>\n",
       "      <td>Yes</td>\n",
       "      <td>No</td>\n",
       "      <td>0</td>\n",
       "    </tr>\n",
       "    <tr>\n",
       "      <th>1</th>\n",
       "      <td>72</td>\n",
       "      <td>1</td>\n",
       "      <td>Train</td>\n",
       "      <td>La Mesa</td>\n",
       "      <td>CA</td>\n",
       "      <td>US</td>\n",
       "      <td>91941</td>\n",
       "      <td>Master's</td>\n",
       "      <td>Anthropology</td>\n",
       "      <td>2011-01-01 00:00:00</td>\n",
       "      <td>10</td>\n",
       "      <td>8.0</td>\n",
       "      <td>Yes</td>\n",
       "      <td>No</td>\n",
       "      <td>0</td>\n",
       "    </tr>\n",
       "    <tr>\n",
       "      <th>2</th>\n",
       "      <td>80</td>\n",
       "      <td>1</td>\n",
       "      <td>Train</td>\n",
       "      <td>Williamstown</td>\n",
       "      <td>NJ</td>\n",
       "      <td>US</td>\n",
       "      <td>08094</td>\n",
       "      <td>High School</td>\n",
       "      <td>Not Applicable</td>\n",
       "      <td>1985-06-01 00:00:00</td>\n",
       "      <td>5</td>\n",
       "      <td>11.0</td>\n",
       "      <td>Yes</td>\n",
       "      <td>Yes</td>\n",
       "      <td>5</td>\n",
       "    </tr>\n",
       "    <tr>\n",
       "      <th>3</th>\n",
       "      <td>98</td>\n",
       "      <td>1</td>\n",
       "      <td>Train</td>\n",
       "      <td>Astoria</td>\n",
       "      <td>NY</td>\n",
       "      <td>US</td>\n",
       "      <td>11105</td>\n",
       "      <td>Master's</td>\n",
       "      <td>Journalism</td>\n",
       "      <td>2007-05-01 00:00:00</td>\n",
       "      <td>3</td>\n",
       "      <td>3.0</td>\n",
       "      <td>Yes</td>\n",
       "      <td>No</td>\n",
       "      <td>0</td>\n",
       "    </tr>\n",
       "    <tr>\n",
       "      <th>4</th>\n",
       "      <td>123</td>\n",
       "      <td>1</td>\n",
       "      <td>Train</td>\n",
       "      <td>Baton Rouge</td>\n",
       "      <td>LA</td>\n",
       "      <td>US</td>\n",
       "      <td>70808</td>\n",
       "      <td>Bachelor's</td>\n",
       "      <td>Agricultural Business</td>\n",
       "      <td>2011-05-01 00:00:00</td>\n",
       "      <td>1</td>\n",
       "      <td>9.0</td>\n",
       "      <td>Yes</td>\n",
       "      <td>No</td>\n",
       "      <td>0</td>\n",
       "    </tr>\n",
       "  </tbody>\n",
       "</table>\n",
       "</div>"
      ],
      "text/plain": [
       "   UserID  WindowID  Split          City State Country ZipCode   DegreeType  \\\n",
       "0      47         1  Train     Paramount    CA      US   90723  High School   \n",
       "1      72         1  Train       La Mesa    CA      US   91941     Master's   \n",
       "2      80         1  Train  Williamstown    NJ      US   08094  High School   \n",
       "3      98         1  Train       Astoria    NY      US   11105     Master's   \n",
       "4     123         1  Train   Baton Rouge    LA      US   70808   Bachelor's   \n",
       "\n",
       "                   Major       GraduationDate  WorkHistoryCount  \\\n",
       "0                    NaN  1999-06-01 00:00:00                 3   \n",
       "1           Anthropology  2011-01-01 00:00:00                10   \n",
       "2         Not Applicable  1985-06-01 00:00:00                 5   \n",
       "3             Journalism  2007-05-01 00:00:00                 3   \n",
       "4  Agricultural Business  2011-05-01 00:00:00                 1   \n",
       "\n",
       "   TotalYearsExperience CurrentlyEmployed ManagedOthers  ManagedHowMany  \n",
       "0                  10.0               Yes            No               0  \n",
       "1                   8.0               Yes            No               0  \n",
       "2                  11.0               Yes           Yes               5  \n",
       "3                   3.0               Yes            No               0  \n",
       "4                   9.0               Yes            No               0  "
      ]
     },
     "execution_count": 47,
     "metadata": {},
     "output_type": "execute_result"
    }
   ],
   "source": [
    "users_training.head()"
   ]
  },
  {
   "cell_type": "code",
   "execution_count": 48,
   "id": "d22bf80b",
   "metadata": {},
   "outputs": [
    {
     "data": {
      "text/html": [
       "<div>\n",
       "<style scoped>\n",
       "    .dataframe tbody tr th:only-of-type {\n",
       "        vertical-align: middle;\n",
       "    }\n",
       "\n",
       "    .dataframe tbody tr th {\n",
       "        vertical-align: top;\n",
       "    }\n",
       "\n",
       "    .dataframe thead th {\n",
       "        text-align: right;\n",
       "    }\n",
       "</style>\n",
       "<table border=\"1\" class=\"dataframe\">\n",
       "  <thead>\n",
       "    <tr style=\"text-align: right;\">\n",
       "      <th></th>\n",
       "      <th>UserID</th>\n",
       "      <th>WindowID</th>\n",
       "      <th>Split</th>\n",
       "      <th>City</th>\n",
       "      <th>State</th>\n",
       "      <th>Country</th>\n",
       "      <th>ZipCode</th>\n",
       "      <th>DegreeType</th>\n",
       "      <th>Major</th>\n",
       "      <th>GraduationDate</th>\n",
       "      <th>WorkHistoryCount</th>\n",
       "      <th>TotalYearsExperience</th>\n",
       "      <th>CurrentlyEmployed</th>\n",
       "      <th>ManagedOthers</th>\n",
       "      <th>ManagedHowMany</th>\n",
       "    </tr>\n",
       "  </thead>\n",
       "  <tbody>\n",
       "    <tr>\n",
       "      <th>0</th>\n",
       "      <td>47</td>\n",
       "      <td>1</td>\n",
       "      <td>Train</td>\n",
       "      <td>Paramount</td>\n",
       "      <td>CA</td>\n",
       "      <td>US</td>\n",
       "      <td>90723</td>\n",
       "      <td>High School</td>\n",
       "      <td>NaN</td>\n",
       "      <td>1999-06-01 00:00:00</td>\n",
       "      <td>3</td>\n",
       "      <td>10.0</td>\n",
       "      <td>Yes</td>\n",
       "      <td>No</td>\n",
       "      <td>0</td>\n",
       "    </tr>\n",
       "    <tr>\n",
       "      <th>1</th>\n",
       "      <td>72</td>\n",
       "      <td>1</td>\n",
       "      <td>Train</td>\n",
       "      <td>La Mesa</td>\n",
       "      <td>CA</td>\n",
       "      <td>US</td>\n",
       "      <td>91941</td>\n",
       "      <td>Master's</td>\n",
       "      <td>Anthropology</td>\n",
       "      <td>2011-01-01 00:00:00</td>\n",
       "      <td>10</td>\n",
       "      <td>8.0</td>\n",
       "      <td>Yes</td>\n",
       "      <td>No</td>\n",
       "      <td>0</td>\n",
       "    </tr>\n",
       "    <tr>\n",
       "      <th>2</th>\n",
       "      <td>80</td>\n",
       "      <td>1</td>\n",
       "      <td>Train</td>\n",
       "      <td>Williamstown</td>\n",
       "      <td>NJ</td>\n",
       "      <td>US</td>\n",
       "      <td>08094</td>\n",
       "      <td>High School</td>\n",
       "      <td>Not Applicable</td>\n",
       "      <td>1985-06-01 00:00:00</td>\n",
       "      <td>5</td>\n",
       "      <td>11.0</td>\n",
       "      <td>Yes</td>\n",
       "      <td>Yes</td>\n",
       "      <td>5</td>\n",
       "    </tr>\n",
       "    <tr>\n",
       "      <th>3</th>\n",
       "      <td>98</td>\n",
       "      <td>1</td>\n",
       "      <td>Train</td>\n",
       "      <td>Astoria</td>\n",
       "      <td>NY</td>\n",
       "      <td>US</td>\n",
       "      <td>11105</td>\n",
       "      <td>Master's</td>\n",
       "      <td>Journalism</td>\n",
       "      <td>2007-05-01 00:00:00</td>\n",
       "      <td>3</td>\n",
       "      <td>3.0</td>\n",
       "      <td>Yes</td>\n",
       "      <td>No</td>\n",
       "      <td>0</td>\n",
       "    </tr>\n",
       "    <tr>\n",
       "      <th>4</th>\n",
       "      <td>123</td>\n",
       "      <td>1</td>\n",
       "      <td>Train</td>\n",
       "      <td>Baton Rouge</td>\n",
       "      <td>LA</td>\n",
       "      <td>US</td>\n",
       "      <td>70808</td>\n",
       "      <td>Bachelor's</td>\n",
       "      <td>Agricultural Business</td>\n",
       "      <td>2011-05-01 00:00:00</td>\n",
       "      <td>1</td>\n",
       "      <td>9.0</td>\n",
       "      <td>Yes</td>\n",
       "      <td>No</td>\n",
       "      <td>0</td>\n",
       "    </tr>\n",
       "    <tr>\n",
       "      <th>...</th>\n",
       "      <td>...</td>\n",
       "      <td>...</td>\n",
       "      <td>...</td>\n",
       "      <td>...</td>\n",
       "      <td>...</td>\n",
       "      <td>...</td>\n",
       "      <td>...</td>\n",
       "      <td>...</td>\n",
       "      <td>...</td>\n",
       "      <td>...</td>\n",
       "      <td>...</td>\n",
       "      <td>...</td>\n",
       "      <td>...</td>\n",
       "      <td>...</td>\n",
       "      <td>...</td>\n",
       "    </tr>\n",
       "    <tr>\n",
       "      <th>10715</th>\n",
       "      <td>217816</td>\n",
       "      <td>1</td>\n",
       "      <td>Train</td>\n",
       "      <td>Phoenix</td>\n",
       "      <td>AZ</td>\n",
       "      <td>US</td>\n",
       "      <td>85023</td>\n",
       "      <td>Associate's</td>\n",
       "      <td>Business Administration and Management, General</td>\n",
       "      <td>2013-06-01 00:00:00</td>\n",
       "      <td>3</td>\n",
       "      <td>8.0</td>\n",
       "      <td>No</td>\n",
       "      <td>No</td>\n",
       "      <td>0</td>\n",
       "    </tr>\n",
       "    <tr>\n",
       "      <th>10716</th>\n",
       "      <td>217826</td>\n",
       "      <td>1</td>\n",
       "      <td>Train</td>\n",
       "      <td>Orlando</td>\n",
       "      <td>FL</td>\n",
       "      <td>US</td>\n",
       "      <td>32801</td>\n",
       "      <td>PhD</td>\n",
       "      <td>Management</td>\n",
       "      <td>2012-01-01 00:00:00</td>\n",
       "      <td>8</td>\n",
       "      <td>5.0</td>\n",
       "      <td>No</td>\n",
       "      <td>No</td>\n",
       "      <td>0</td>\n",
       "    </tr>\n",
       "    <tr>\n",
       "      <th>10717</th>\n",
       "      <td>217841</td>\n",
       "      <td>1</td>\n",
       "      <td>Train</td>\n",
       "      <td>Mc Connells</td>\n",
       "      <td>SC</td>\n",
       "      <td>US</td>\n",
       "      <td>29726</td>\n",
       "      <td>Bachelor's</td>\n",
       "      <td>K-12 Choral/Instrumental MUSIC EDUCATION</td>\n",
       "      <td>2006-05-01 00:00:00</td>\n",
       "      <td>5</td>\n",
       "      <td>10.0</td>\n",
       "      <td>No</td>\n",
       "      <td>No</td>\n",
       "      <td>0</td>\n",
       "    </tr>\n",
       "    <tr>\n",
       "      <th>10718</th>\n",
       "      <td>217842</td>\n",
       "      <td>1</td>\n",
       "      <td>Train</td>\n",
       "      <td>Atlanta</td>\n",
       "      <td>GA</td>\n",
       "      <td>US</td>\n",
       "      <td>30311</td>\n",
       "      <td>Bachelor's</td>\n",
       "      <td>Accounting</td>\n",
       "      <td>NaN</td>\n",
       "      <td>6</td>\n",
       "      <td>13.0</td>\n",
       "      <td>Yes</td>\n",
       "      <td>No</td>\n",
       "      <td>0</td>\n",
       "    </tr>\n",
       "    <tr>\n",
       "      <th>10719</th>\n",
       "      <td>217846</td>\n",
       "      <td>1</td>\n",
       "      <td>Train</td>\n",
       "      <td>Henderson</td>\n",
       "      <td>NC</td>\n",
       "      <td>US</td>\n",
       "      <td>27536</td>\n",
       "      <td>Bachelor's</td>\n",
       "      <td>Spanish</td>\n",
       "      <td>NaN</td>\n",
       "      <td>4</td>\n",
       "      <td>6.0</td>\n",
       "      <td>Yes</td>\n",
       "      <td>No</td>\n",
       "      <td>0</td>\n",
       "    </tr>\n",
       "  </tbody>\n",
       "</table>\n",
       "<p>10000 rows × 15 columns</p>\n",
       "</div>"
      ],
      "text/plain": [
       "       UserID  WindowID  Split          City State Country ZipCode  \\\n",
       "0          47         1  Train     Paramount    CA      US   90723   \n",
       "1          72         1  Train       La Mesa    CA      US   91941   \n",
       "2          80         1  Train  Williamstown    NJ      US   08094   \n",
       "3          98         1  Train       Astoria    NY      US   11105   \n",
       "4         123         1  Train   Baton Rouge    LA      US   70808   \n",
       "...       ...       ...    ...           ...   ...     ...     ...   \n",
       "10715  217816         1  Train       Phoenix    AZ      US   85023   \n",
       "10716  217826         1  Train       Orlando    FL      US   32801   \n",
       "10717  217841         1  Train   Mc Connells    SC      US   29726   \n",
       "10718  217842         1  Train       Atlanta    GA      US   30311   \n",
       "10719  217846         1  Train     Henderson    NC      US   27536   \n",
       "\n",
       "        DegreeType                                            Major  \\\n",
       "0      High School                                              NaN   \n",
       "1         Master's                                     Anthropology   \n",
       "2      High School                                   Not Applicable   \n",
       "3         Master's                                       Journalism   \n",
       "4       Bachelor's                            Agricultural Business   \n",
       "...            ...                                              ...   \n",
       "10715  Associate's  Business Administration and Management, General   \n",
       "10716          PhD                                       Management   \n",
       "10717   Bachelor's         K-12 Choral/Instrumental MUSIC EDUCATION   \n",
       "10718   Bachelor's                                       Accounting   \n",
       "10719   Bachelor's                                          Spanish   \n",
       "\n",
       "            GraduationDate  WorkHistoryCount  TotalYearsExperience  \\\n",
       "0      1999-06-01 00:00:00                 3                  10.0   \n",
       "1      2011-01-01 00:00:00                10                   8.0   \n",
       "2      1985-06-01 00:00:00                 5                  11.0   \n",
       "3      2007-05-01 00:00:00                 3                   3.0   \n",
       "4      2011-05-01 00:00:00                 1                   9.0   \n",
       "...                    ...               ...                   ...   \n",
       "10715  2013-06-01 00:00:00                 3                   8.0   \n",
       "10716  2012-01-01 00:00:00                 8                   5.0   \n",
       "10717  2006-05-01 00:00:00                 5                  10.0   \n",
       "10718                  NaN                 6                  13.0   \n",
       "10719                  NaN                 4                   6.0   \n",
       "\n",
       "      CurrentlyEmployed ManagedOthers  ManagedHowMany  \n",
       "0                   Yes            No               0  \n",
       "1                   Yes            No               0  \n",
       "2                   Yes           Yes               5  \n",
       "3                   Yes            No               0  \n",
       "4                   Yes            No               0  \n",
       "...                 ...           ...             ...  \n",
       "10715                No            No               0  \n",
       "10716                No            No               0  \n",
       "10717                No            No               0  \n",
       "10718               Yes            No               0  \n",
       "10719               Yes            No               0  \n",
       "\n",
       "[10000 rows x 15 columns]"
      ]
     },
     "execution_count": 48,
     "metadata": {},
     "output_type": "execute_result"
    }
   ],
   "source": [
    "user_based_approach_US = users_training.loc[users_training['Country']=='US']\n",
    "user_based_approach = user_based_approach_US.iloc[0:10000,:]\n",
    "user_based_approach"
   ]
  },
  {
   "cell_type": "code",
   "execution_count": 49,
   "id": "a8465275",
   "metadata": {},
   "outputs": [
    {
     "data": {
      "text/plain": [
       "UserID                     0\n",
       "WindowID                   0\n",
       "Split                      0\n",
       "City                       0\n",
       "State                      0\n",
       "Country                    0\n",
       "ZipCode                    5\n",
       "DegreeType                 0\n",
       "Major                   2626\n",
       "GraduationDate          3421\n",
       "WorkHistoryCount           0\n",
       "TotalYearsExperience     559\n",
       "CurrentlyEmployed       1393\n",
       "ManagedOthers              0\n",
       "ManagedHowMany             0\n",
       "dtype: int64"
      ]
     },
     "execution_count": 49,
     "metadata": {},
     "output_type": "execute_result"
    }
   ],
   "source": [
    "user_based_approach.isna().sum()"
   ]
  },
  {
   "cell_type": "markdown",
   "id": "36c42f19",
   "metadata": {},
   "source": [
    "Here we can see we have few columns  where we have missing values we have to fill it \n",
    "\n",
    "Becouse we are going to recommend on the base of eaduction  qualifications"
   ]
  },
  {
   "cell_type": "code",
   "execution_count": 50,
   "id": "dc06f7b4",
   "metadata": {},
   "outputs": [],
   "source": [
    "user_based_approach['DegreeType'] = user_based_approach['DegreeType'].fillna('')\n",
    "user_based_approach['Major'] = user_based_approach['Major'].fillna('')\n",
    "user_based_approach['TotalYearsExperience'] = str(user_based_approach['TotalYearsExperience'].fillna(''))\n",
    "\n",
    "user_based_approach['DegreeType'] = user_based_approach['DegreeType'] + user_based_approach['Major'] + user_based_approach['TotalYearsExperience']"
   ]
  },
  {
   "cell_type": "code",
   "execution_count": null,
   "id": "eab6c923",
   "metadata": {},
   "outputs": [],
   "source": []
  },
  {
   "cell_type": "code",
   "execution_count": 51,
   "id": "e3f29891",
   "metadata": {
    "scrolled": true
   },
   "outputs": [
    {
     "name": "stdout",
     "output_type": "stream",
     "text": [
      "Master'sAnthropology0        10.0\n",
      "1         8.0\n",
      "2        11.0\n",
      "3         3.0\n",
      "4         9.0\n",
      "         ... \n",
      "10715     8.0\n",
      "10716     5.0\n",
      "10717    10.0\n",
      "10718    13.0\n",
      "10719     6.0\n",
      "Name: TotalYearsExperience, Length: 10000, dtype: object\n"
     ]
    }
   ],
   "source": [
    "print(user_based_approach['DegreeType'][1])"
   ]
  },
  {
   "cell_type": "code",
   "execution_count": 52,
   "id": "3c223246",
   "metadata": {},
   "outputs": [],
   "source": [
    "tf = TfidfVectorizer(analyzer='word',ngram_range=(1, 2),min_df=0, stop_words='english')\n",
    "tfidf_matrix = tf.fit_transform(user_based_approach['DegreeType'])"
   ]
  },
  {
   "cell_type": "code",
   "execution_count": 53,
   "id": "de962d77",
   "metadata": {},
   "outputs": [
    {
     "data": {
      "text/plain": [
       "(10000, 7215)"
      ]
     },
     "execution_count": 53,
     "metadata": {},
     "output_type": "execute_result"
    }
   ],
   "source": [
    "tfidf_matrix.shape\n"
   ]
  },
  {
   "cell_type": "markdown",
   "id": "b475be64",
   "metadata": {},
   "source": [
    "## Cosine similarity"
   ]
  },
  {
   "cell_type": "code",
   "execution_count": 54,
   "id": "25b2ec1d",
   "metadata": {},
   "outputs": [],
   "source": [
    "cosine_sim = linear_kernel(tfidf_matrix, tfidf_matrix)"
   ]
  },
  {
   "cell_type": "code",
   "execution_count": 55,
   "id": "c872c093",
   "metadata": {},
   "outputs": [
    {
     "data": {
      "text/plain": [
       "array([[1.        , 0.17876394, 0.39845967, ..., 0.08851082, 0.27428073,\n",
       "        0.19371807],\n",
       "       [0.17876394, 1.        , 0.20047262, ..., 0.05471815, 0.16956271,\n",
       "        0.11975817],\n",
       "       [0.39845967, 0.20047262, 1.        , ..., 0.09925937, 0.30758876,\n",
       "        0.21724275],\n",
       "       ...,\n",
       "       [0.08851082, 0.05471815, 0.09925937, ..., 1.        , 0.09895542,\n",
       "        0.0698899 ],\n",
       "       [0.27428073, 0.16956271, 0.30758876, ..., 0.09895542, 1.        ,\n",
       "        0.21657751],\n",
       "       [0.19371807, 0.11975817, 0.21724275, ..., 0.0698899 , 0.21657751,\n",
       "        1.        ]])"
      ]
     },
     "execution_count": 55,
     "metadata": {},
     "output_type": "execute_result"
    }
   ],
   "source": [
    "cosine_sim"
   ]
  },
  {
   "cell_type": "code",
   "execution_count": 56,
   "id": "8c9b4d03",
   "metadata": {},
   "outputs": [
    {
     "data": {
      "text/plain": [
       "UserID\n",
       "47    0\n",
       "72    1\n",
       "dtype: int64"
      ]
     },
     "execution_count": 56,
     "metadata": {},
     "output_type": "execute_result"
    }
   ],
   "source": [
    "user_based_approach = user_based_approach.reset_index()\n",
    "userid = user_based_approach['UserID']\n",
    "indices = pd.Series(user_based_approach.index, index=user_based_approach['UserID'])\n",
    "indices.head(2)"
   ]
  },
  {
   "cell_type": "code",
   "execution_count": 57,
   "id": "4a381653",
   "metadata": {},
   "outputs": [],
   "source": [
    "def get_recommendations_userwise(userid):\n",
    "    idx = indices[userid]\n",
    "    #print (idx)\n",
    "    sim_scores = list(enumerate(cosine_sim[idx]))\n",
    "    #print (sim_scores)\n",
    "    sim_scores = sorted(sim_scores, key=lambda x: x[1], reverse=True)\n",
    "    user_indices = [i[0] for i in sim_scores]\n",
    "    #print (user_indices)\n",
    "    return user_indices[0:11]\n"
   ]
  },
  {
   "cell_type": "code",
   "execution_count": 58,
   "id": "e0a39941",
   "metadata": {},
   "outputs": [
    {
     "name": "stdout",
     "output_type": "stream",
     "text": [
      "-----Top 10 Similar users with userId: 123------\n"
     ]
    },
    {
     "data": {
      "text/plain": [
       "[4, 150, 1594, 5560, 1171, 2464, 2846, 7945, 8125, 2553, 5667]"
      ]
     },
     "execution_count": 58,
     "metadata": {},
     "output_type": "execute_result"
    }
   ],
   "source": [
    "print (\"-----Top 10 Similar users with userId: 123------\")\n",
    "get_recommendations_userwise(123)"
   ]
  },
  {
   "cell_type": "code",
   "execution_count": 59,
   "id": "b0a48b1a",
   "metadata": {},
   "outputs": [],
   "source": [
    "def get_job_id(usrid_list):\n",
    "    jobs_userwise = apps_training['UserID'].isin(usrid_list) #\n",
    "    df1 = pd.DataFrame(data = apps_training[jobs_userwise], columns=['JobID'])\n",
    "    joblist = df1['JobID'].tolist()\n",
    "    Job_list = jobs['JobID'].isin(joblist) #[1083186, 516837, 507614, 754917, 686406, 1058896, 335132])\n",
    "    df_temp = pd.DataFrame(data = jobs[Job_list], columns=['JobID','Title','Description','City','State'])\n",
    "    return df_temp\n"
   ]
  },
  {
   "cell_type": "code",
   "execution_count": 61,
   "id": "35e7ca1e",
   "metadata": {},
   "outputs": [
    {
     "name": "stdout",
     "output_type": "stream",
     "text": [
      "-----Top 10 Similar users with userId: 47------\n"
     ]
    },
    {
     "data": {
      "text/plain": [
       "[0, 79, 126, 182, 345, 366, 393, 423, 434, 490, 544]"
      ]
     },
     "execution_count": 61,
     "metadata": {},
     "output_type": "execute_result"
    }
   ],
   "source": [
    "print (\"-----Top 10 Similar users with userId: 47------\")\n",
    "get_recommendations_userwise(47)"
   ]
  },
  {
   "cell_type": "code",
   "execution_count": 62,
   "id": "7361783c",
   "metadata": {},
   "outputs": [
    {
     "data": {
      "text/html": [
       "<div>\n",
       "<style scoped>\n",
       "    .dataframe tbody tr th:only-of-type {\n",
       "        vertical-align: middle;\n",
       "    }\n",
       "\n",
       "    .dataframe tbody tr th {\n",
       "        vertical-align: top;\n",
       "    }\n",
       "\n",
       "    .dataframe thead th {\n",
       "        text-align: right;\n",
       "    }\n",
       "</style>\n",
       "<table border=\"1\" class=\"dataframe\">\n",
       "  <thead>\n",
       "    <tr style=\"text-align: right;\">\n",
       "      <th></th>\n",
       "      <th>JobID</th>\n",
       "      <th>Title</th>\n",
       "      <th>Description</th>\n",
       "      <th>City</th>\n",
       "      <th>State</th>\n",
       "    </tr>\n",
       "  </thead>\n",
       "  <tbody>\n",
       "    <tr>\n",
       "      <th>905894</th>\n",
       "      <td>428902</td>\n",
       "      <td>Aircraft Servicer</td>\n",
       "      <td>&lt;b&gt;Job Classification: &lt;/b&gt; Direct Hire \\r\\n\\r...</td>\n",
       "      <td>Memphis</td>\n",
       "      <td>TN</td>\n",
       "    </tr>\n",
       "    <tr>\n",
       "      <th>975525</th>\n",
       "      <td>1098447</td>\n",
       "      <td>Automotive Service Advisor</td>\n",
       "      <td>&lt;div&gt;\\r&lt;div&gt;Briggs Nissan in Lawrence Kansas h...</td>\n",
       "      <td>Lawrence</td>\n",
       "      <td>KS</td>\n",
       "    </tr>\n",
       "    <tr>\n",
       "      <th>980507</th>\n",
       "      <td>37309</td>\n",
       "      <td>Medical Lab Technician - High Volume Lab</td>\n",
       "      <td>&lt;span&gt;Position Title:&lt;span&gt;&amp;nbsp;&amp;nbsp;&amp;nbsp;&amp;...</td>\n",
       "      <td>Fort Myers</td>\n",
       "      <td>FL</td>\n",
       "    </tr>\n",
       "    <tr>\n",
       "      <th>986244</th>\n",
       "      <td>83507</td>\n",
       "      <td>Nurse Tech (CNA/STNA)</td>\n",
       "      <td>&lt;p align=\"center\"&gt;&lt;b&gt;Purpose of Your Job Posit...</td>\n",
       "      <td>Englewood</td>\n",
       "      <td>FL</td>\n",
       "    </tr>\n",
       "    <tr>\n",
       "      <th>987452</th>\n",
       "      <td>93883</td>\n",
       "      <td>Nurse Tech II (CNA/STNA)</td>\n",
       "      <td>&lt;B&gt;Nurse Tech II (CNA/STNA)&lt;/B&gt; &lt;BR&gt;\\r&lt;BR&gt;\\rTh...</td>\n",
       "      <td>Fort Myers</td>\n",
       "      <td>FL</td>\n",
       "    </tr>\n",
       "    <tr>\n",
       "      <th>1000910</th>\n",
       "      <td>228284</td>\n",
       "      <td>REGISTERED NURSE – ICU</td>\n",
       "      <td>&lt;p&gt;&lt;strong&gt;&lt;span&gt;&lt;font face=\"\"&gt;Registered Nurs...</td>\n",
       "      <td>Punta Gorda</td>\n",
       "      <td>FL</td>\n",
       "    </tr>\n",
       "    <tr>\n",
       "      <th>1007140</th>\n",
       "      <td>284840</td>\n",
       "      <td>Certified Nursing Assistant / CNA</td>\n",
       "      <td>&lt;hr&gt;\\r&lt;p style=\"text-align: center\"&gt;&lt;strong&gt;Ce...</td>\n",
       "      <td>Saint Petersburg</td>\n",
       "      <td>FL</td>\n",
       "    </tr>\n",
       "    <tr>\n",
       "      <th>1007141</th>\n",
       "      <td>284841</td>\n",
       "      <td>Home Health Aide / HHA</td>\n",
       "      <td>&lt;hr&gt;\\r&lt;p style=\"text-align: center\"&gt;&lt;strong&gt;Ho...</td>\n",
       "      <td>Saint Petersburg</td>\n",
       "      <td>FL</td>\n",
       "    </tr>\n",
       "    <tr>\n",
       "      <th>1009455</th>\n",
       "      <td>312536</td>\n",
       "      <td>Secretary II</td>\n",
       "      <td>&lt;br&gt;&lt;br&gt;&lt;b&gt;Department: &lt;/b&gt;COMM Maryland Cardi...</td>\n",
       "      <td>Baltimore</td>\n",
       "      <td>MD</td>\n",
       "    </tr>\n",
       "    <tr>\n",
       "      <th>1011978</th>\n",
       "      <td>341662</td>\n",
       "      <td>Medical Assistant</td>\n",
       "      <td>Certified Medical Assistant for busy Pain Clin...</td>\n",
       "      <td>Fort Myers</td>\n",
       "      <td>FL</td>\n",
       "    </tr>\n",
       "    <tr>\n",
       "      <th>1034578</th>\n",
       "      <td>551375</td>\n",
       "      <td>Phlebotomist</td>\n",
       "      <td>&lt;p&gt;Every day All Medical Personnel helps excep...</td>\n",
       "      <td>Clearwater</td>\n",
       "      <td>FL</td>\n",
       "    </tr>\n",
       "    <tr>\n",
       "      <th>1048060</th>\n",
       "      <td>684278</td>\n",
       "      <td>Sales Representative / Customer Service / Acco...</td>\n",
       "      <td>&lt;P&gt;Central Payment offers limitless opportunit...</td>\n",
       "      <td>Bonita Springs</td>\n",
       "      <td>FL</td>\n",
       "    </tr>\n",
       "    <tr>\n",
       "      <th>1066952</th>\n",
       "      <td>867194</td>\n",
       "      <td>Hospital Liaison and Pharmaceutical</td>\n",
       "      <td>Hospital Liaison with Pharmaceutical exp&lt;br /&gt;...</td>\n",
       "      <td>Fort Myers</td>\n",
       "      <td>FL</td>\n",
       "    </tr>\n",
       "    <tr>\n",
       "      <th>1070785</th>\n",
       "      <td>910932</td>\n",
       "      <td>Nursing:  CNA (PRN)</td>\n",
       "      <td>&lt;p&gt;&amp;nbsp;&lt;/p&gt;\\r&lt;p&gt;Take advantage of this great...</td>\n",
       "      <td>Fort Myers</td>\n",
       "      <td>FL</td>\n",
       "    </tr>\n",
       "    <tr>\n",
       "      <th>1076051</th>\n",
       "      <td>960285</td>\n",
       "      <td>All college grads apply! Entry level sales and...</td>\n",
       "      <td>&lt;div&gt; &lt;span&gt;\\r&lt;div&gt;\\r&lt;div&gt;&lt;strong&gt;All college ...</td>\n",
       "      <td>Fort Myers</td>\n",
       "      <td>FL</td>\n",
       "    </tr>\n",
       "    <tr>\n",
       "      <th>1091311</th>\n",
       "      <td>1108709</td>\n",
       "      <td>Certified Nursing Assistant / CNA / HHA</td>\n",
       "      <td>&lt;hr&gt;\\r&lt;p style=\"text-align: center\"&gt;&lt;strong&gt;Ce...</td>\n",
       "      <td>Sarasota</td>\n",
       "      <td>FL</td>\n",
       "    </tr>\n",
       "  </tbody>\n",
       "</table>\n",
       "</div>"
      ],
      "text/plain": [
       "           JobID                                              Title  \\\n",
       "905894    428902                                  Aircraft Servicer   \n",
       "975525   1098447                         Automotive Service Advisor   \n",
       "980507     37309           Medical Lab Technician - High Volume Lab   \n",
       "986244     83507                              Nurse Tech (CNA/STNA)   \n",
       "987452     93883                           Nurse Tech II (CNA/STNA)   \n",
       "1000910   228284                             REGISTERED NURSE – ICU   \n",
       "1007140   284840                  Certified Nursing Assistant / CNA   \n",
       "1007141   284841                             Home Health Aide / HHA   \n",
       "1009455   312536                                       Secretary II   \n",
       "1011978   341662                                  Medical Assistant   \n",
       "1034578   551375                                       Phlebotomist   \n",
       "1048060   684278  Sales Representative / Customer Service / Acco...   \n",
       "1066952   867194                Hospital Liaison and Pharmaceutical   \n",
       "1070785   910932                                Nursing:  CNA (PRN)   \n",
       "1076051   960285  All college grads apply! Entry level sales and...   \n",
       "1091311  1108709            Certified Nursing Assistant / CNA / HHA   \n",
       "\n",
       "                                               Description              City  \\\n",
       "905894   <b>Job Classification: </b> Direct Hire \\r\\n\\r...           Memphis   \n",
       "975525   <div>\\r<div>Briggs Nissan in Lawrence Kansas h...          Lawrence   \n",
       "980507   <span>Position Title:<span>&nbsp;&nbsp;&nbsp;&...        Fort Myers   \n",
       "986244   <p align=\"center\"><b>Purpose of Your Job Posit...         Englewood   \n",
       "987452   <B>Nurse Tech II (CNA/STNA)</B> <BR>\\r<BR>\\rTh...        Fort Myers   \n",
       "1000910  <p><strong><span><font face=\"\">Registered Nurs...       Punta Gorda   \n",
       "1007140  <hr>\\r<p style=\"text-align: center\"><strong>Ce...  Saint Petersburg   \n",
       "1007141  <hr>\\r<p style=\"text-align: center\"><strong>Ho...  Saint Petersburg   \n",
       "1009455  <br><br><b>Department: </b>COMM Maryland Cardi...         Baltimore   \n",
       "1011978  Certified Medical Assistant for busy Pain Clin...        Fort Myers   \n",
       "1034578  <p>Every day All Medical Personnel helps excep...        Clearwater   \n",
       "1048060  <P>Central Payment offers limitless opportunit...    Bonita Springs   \n",
       "1066952  Hospital Liaison with Pharmaceutical exp<br />...        Fort Myers   \n",
       "1070785  <p>&nbsp;</p>\\r<p>Take advantage of this great...        Fort Myers   \n",
       "1076051  <div> <span>\\r<div>\\r<div><strong>All college ...        Fort Myers   \n",
       "1091311  <hr>\\r<p style=\"text-align: center\"><strong>Ce...          Sarasota   \n",
       "\n",
       "        State  \n",
       "905894     TN  \n",
       "975525     KS  \n",
       "980507     FL  \n",
       "986244     FL  \n",
       "987452     FL  \n",
       "1000910    FL  \n",
       "1007140    FL  \n",
       "1007141    FL  \n",
       "1009455    MD  \n",
       "1011978    FL  \n",
       "1034578    FL  \n",
       "1048060    FL  \n",
       "1066952    FL  \n",
       "1070785    FL  \n",
       "1076051    FL  \n",
       "1091311    FL  "
      ]
     },
     "execution_count": 62,
     "metadata": {},
     "output_type": "execute_result"
    }
   ],
   "source": [
    "get_job_id(get_recommendations_userwise(47))\n"
   ]
  },
  {
   "cell_type": "code",
   "execution_count": null,
   "id": "37f2dfde",
   "metadata": {},
   "outputs": [],
   "source": []
  }
 ],
 "metadata": {
  "kernelspec": {
   "display_name": "Python 3 (ipykernel)",
   "language": "python",
   "name": "python3"
  },
  "language_info": {
   "codemirror_mode": {
    "name": "ipython",
    "version": 3
   },
   "file_extension": ".py",
   "mimetype": "text/x-python",
   "name": "python",
   "nbconvert_exporter": "python",
   "pygments_lexer": "ipython3",
   "version": "3.9.13"
  }
 },
 "nbformat": 4,
 "nbformat_minor": 5
}
